{
 "cells": [
  {
   "cell_type": "markdown",
   "metadata": {},
   "source": [
    "# Basics of Python"
   ]
  },
  {
   "cell_type": "code",
   "execution_count": 2,
   "metadata": {},
   "outputs": [
    {
     "name": "stdout",
     "output_type": "stream",
     "text": [
      "Hello, World!\n"
     ]
    }
   ],
   "source": [
    "print('Hello, World!')"
   ]
  },
  {
   "cell_type": "markdown",
   "metadata": {},
   "source": [
    "# Input/output"
   ]
  },
  {
   "cell_type": "code",
   "execution_count": 3,
   "metadata": {},
   "outputs": [
    {
     "name": "stdout",
     "output_type": "stream",
     "text": [
      "Welcome Chandan\n"
     ]
    }
   ],
   "source": [
    "name=input(\"Enter your name: \")\n",
    "print(\"Welcome\", name)\n"
   ]
  },
  {
   "cell_type": "markdown",
   "metadata": {},
   "source": [
    "# Different Data types"
   ]
  },
  {
   "cell_type": "markdown",
   "metadata": {},
   "source": [
    "- Python as following primitive data types: \n",
    "\n",
    "    - int: it is a whole number such as 1,5,6,65,1000.\n",
    "\n",
    "    - float: it is a decimal point number such as 1.5, 7.8, 100.0.\n",
    "\n",
    "    - string: it is a sequence of characters enclosed inside  double quotes or triple quotes such as \"Hello, world!\", \"name\"...etc.\n",
    "    \n",
    "    - bool: it is either True or False."
   ]
  },
  {
   "cell_type": "markdown",
   "metadata": {},
   "source": [
    "- Python also has following built-in non-primitive data types\n",
    "\n",
    "    - Lists.\n",
    "\n",
    "    - Dictionaries.\n",
    "\n",
    "    - Tuples."
   ]
  },
  {
   "cell_type": "markdown",
   "metadata": {},
   "source": [
    "# Type"
   ]
  },
  {
   "cell_type": "markdown",
   "metadata": {},
   "source": [
    "Type():  is a function used to get the type of a value/variable.\n"
   ]
  },
  {
   "cell_type": "code",
   "execution_count": 4,
   "metadata": {},
   "outputs": [
    {
     "name": "stdout",
     "output_type": "stream",
     "text": [
      "<class 'int'>\n"
     ]
    }
   ],
   "source": [
    "print(type(5))"
   ]
  },
  {
   "cell_type": "code",
   "execution_count": 5,
   "metadata": {},
   "outputs": [
    {
     "name": "stdout",
     "output_type": "stream",
     "text": [
      "<class 'str'>\n"
     ]
    }
   ],
   "source": [
    "print(type(\"hello\"))"
   ]
  },
  {
   "cell_type": "code",
   "execution_count": 6,
   "metadata": {},
   "outputs": [
    {
     "name": "stdout",
     "output_type": "stream",
     "text": [
      "<class 'bool'>\n"
     ]
    }
   ],
   "source": [
    "print(type(True))"
   ]
  },
  {
   "cell_type": "code",
   "execution_count": 7,
   "metadata": {},
   "outputs": [
    {
     "name": "stdout",
     "output_type": "stream",
     "text": [
      "<class 'float'>\n"
     ]
    }
   ],
   "source": [
    "print(type(0.5))"
   ]
  },
  {
   "cell_type": "markdown",
   "metadata": {},
   "source": [
    "# variables"
   ]
  },
  {
   "cell_type": "markdown",
   "metadata": {},
   "source": [
    "**Variables** are Place holders for values.\n",
    "\n",
    "Rules: \n",
    "\n",
    "    - Variables names can contain alphabets, integers and/or underscore (_) characteer.\n",
    "    \n",
    "    - variable names can not begin with a number. they can only begin with a letter or an underscore (_).\n",
    "\n",
    "    - Variable names can not contain whitespaces and special characters."
   ]
  },
  {
   "cell_type": "code",
   "execution_count": 10,
   "metadata": {},
   "outputs": [
    {
     "name": "stdout",
     "output_type": "stream",
     "text": [
      "1\n"
     ]
    }
   ],
   "source": [
    "x= 1\n",
    "print(x)"
   ]
  },
  {
   "cell_type": "code",
   "execution_count": 11,
   "metadata": {},
   "outputs": [
    {
     "name": "stdout",
     "output_type": "stream",
     "text": [
      "chandan\n"
     ]
    }
   ],
   "source": [
    "name=\"chandan\"\n",
    "print(name)"
   ]
  },
  {
   "cell_type": "markdown",
   "metadata": {},
   "source": [
    "# Airthmetic Operators"
   ]
  },
  {
   "cell_type": "markdown",
   "metadata": {},
   "source": [
    "- Addition: use the plus(+) for addition.\n",
    "\n",
    "- Substraction: use the minus (-) operator for substraction.\n",
    "\n",
    "- Multiplication: use the (*) operator for multiplication.\n",
    "\n",
    "- Division: \n",
    "    - there are two types of didvision in python.\n",
    "        - Float Division: use (/) for float division. if the result is integer, it is converted to a float by adding .0\n",
    "\n",
    "        - Integer Division: use (//) for integer division. if the result of is a float, it is converted to an integer by truncating the decimal part.\n",
    "\n",
    "- Modulo: Modulo operator return the reminder of ta division. use the (%) for modulo operator  "
   ]
  },
  {
   "cell_type": "code",
   "execution_count": 12,
   "metadata": {},
   "outputs": [
    {
     "name": "stdout",
     "output_type": "stream",
     "text": [
      "8\n"
     ]
    }
   ],
   "source": [
    "print(5+3)"
   ]
  },
  {
   "cell_type": "code",
   "execution_count": 13,
   "metadata": {},
   "outputs": [
    {
     "name": "stdout",
     "output_type": "stream",
     "text": [
      "2\n"
     ]
    }
   ],
   "source": [
    "print(5-3)"
   ]
  },
  {
   "cell_type": "code",
   "execution_count": 15,
   "metadata": {},
   "outputs": [
    {
     "name": "stdout",
     "output_type": "stream",
     "text": [
      "15\n"
     ]
    }
   ],
   "source": [
    "print(5*3)"
   ]
  },
  {
   "cell_type": "code",
   "execution_count": 16,
   "metadata": {},
   "outputs": [
    {
     "name": "stdout",
     "output_type": "stream",
     "text": [
      "1.6666666666666667\n"
     ]
    }
   ],
   "source": [
    "print(5/3)"
   ]
  },
  {
   "cell_type": "code",
   "execution_count": 17,
   "metadata": {},
   "outputs": [
    {
     "name": "stdout",
     "output_type": "stream",
     "text": [
      "1\n"
     ]
    }
   ],
   "source": [
    "print(5//3)"
   ]
  },
  {
   "cell_type": "code",
   "execution_count": 20,
   "metadata": {},
   "outputs": [
    {
     "name": "stdout",
     "output_type": "stream",
     "text": [
      "2\n"
     ]
    }
   ],
   "source": [
    "print(5%3)"
   ]
  },
  {
   "cell_type": "markdown",
   "metadata": {},
   "source": [
    "# Comparison operators"
   ]
  },
  {
   "cell_type": "markdown",
   "metadata": {},
   "source": [
    "**Comparison operators** are used to compare two values with each other.\n",
    "\n",
    "The result of a comparison operator is either True or False.\n",
    "\n",
    "We have the following comparison operators.\n",
    "\n",
    "    • Greater than (>)\n",
    "        - returns True if the value on the left is bigger than that on the right.\n",
    "\n",
    "    • Less than (<)\n",
    "        • returns True if the value on the left is smaller than that on the right.\n",
    "\n",
    "    • Greater than or equal to (>=)\n",
    "        • returns True if the value on the left is either bigger than or equal to the value on the right.\n",
    "\n",
    "    • Less than or equal to (<=)\n",
    "        • returns True if the value on the left is either smaller than or equal to the value on the right.\n",
    "\n",
    "    • Not equal to (!=)\n",
    "        • returns True if the value on the left is not equal to the value on the right.\n",
    "\n",
    "    • Is equal to (==)\n",
    "        • returns True if the value on the left is equal to the value on the right."
   ]
  },
  {
   "cell_type": "code",
   "execution_count": 1,
   "metadata": {},
   "outputs": [
    {
     "name": "stdout",
     "output_type": "stream",
     "text": [
      "True\n"
     ]
    }
   ],
   "source": [
    "print(20>3)"
   ]
  },
  {
   "cell_type": "code",
   "execution_count": 2,
   "metadata": {},
   "outputs": [
    {
     "name": "stdout",
     "output_type": "stream",
     "text": [
      "False\n"
     ]
    }
   ],
   "source": [
    "print(100<7)"
   ]
  },
  {
   "cell_type": "markdown",
   "metadata": {},
   "source": [
    "# Logical Operators"
   ]
  },
  {
   "cell_type": "markdown",
   "metadata": {},
   "source": [
    "• We can use logical operators to combine two or more conditions.\n",
    "\n",
    "• Python has three logical operators.\n",
    "\n",
    "    • And operator (and)\n",
    "\n",
    "    • Or operator (or)\n",
    "    \n",
    "    • Not operator (not)\n",
    "\n",
    "• and/or operators are binary as they take two operands.\n",
    "\n",
    "• Not is a unary operator as it takes only one operand.\n"
   ]
  },
  {
   "cell_type": "markdown",
   "metadata": {},
   "source": [
    "# And operator\n",
    "\n",
    "• **and** returns a True only if both the operands are True.\n",
    "\n",
    "• In python, we use the keyword ‘and’ to perform and operation.\n",
    "and operator"
   ]
  },
  {
   "cell_type": "code",
   "execution_count": 5,
   "metadata": {},
   "outputs": [
    {
     "name": "stdout",
     "output_type": "stream",
     "text": [
      "False\n"
     ]
    }
   ],
   "source": [
    "print((20>3) and (100<7))"
   ]
  },
  {
   "cell_type": "markdown",
   "metadata": {},
   "source": [
    "# Or operator\n",
    "\n",
    "• or returns a True if at least one of the operands is True.\n",
    "\n",
    "• In python, we use the keyword ‘or’ to perform or operation.\n"
   ]
  },
  {
   "cell_type": "code",
   "execution_count": 6,
   "metadata": {},
   "outputs": [
    {
     "name": "stdout",
     "output_type": "stream",
     "text": [
      "True\n"
     ]
    }
   ],
   "source": [
    "print((20>3) or (100<7))"
   ]
  },
  {
   "cell_type": "markdown",
   "metadata": {},
   "source": [
    "# Not operator\n",
    "\n",
    "• not is a unary operator.\n",
    "\n",
    "• not changes True to False and vice versa.\n",
    "\n",
    "• In python, we use the keyword ‘not’ to perform not operation.\n",
    "\n"
   ]
  },
  {
   "cell_type": "code",
   "execution_count": 7,
   "metadata": {},
   "outputs": [
    {
     "name": "stdout",
     "output_type": "stream",
     "text": [
      "True\n",
      "False\n"
     ]
    }
   ],
   "source": [
    "X = True\n",
    "print(X)\n",
    "print(not X)"
   ]
  },
  {
   "cell_type": "markdown",
   "metadata": {},
   "source": [
    "# Conditional Statements \n",
    "\n",
    "## Control Flow\n",
    "\n",
    "• Here is the general syntax of conditional statements\n",
    "\n",
    "    if condition:\n",
    "\n",
    "        block of statements to execute\n",
    "\n",
    "    elif condition:\n",
    "\n",
    "        block of statements to execute\n",
    "\n",
    "    else:\n",
    "\n",
    "        block of statements to execute\n",
    "\n",
    "\n",
    "• Conditions are evaluated in a top down manner.\n"
   ]
  },
  {
   "cell_type": "code",
   "execution_count": 8,
   "metadata": {},
   "outputs": [
    {
     "name": "stdout",
     "output_type": "stream",
     "text": [
      "2\n"
     ]
    }
   ],
   "source": [
    "if 5==6:\n",
    "    print(1)\n",
    "elif 6==6:\n",
    "    print(2)\n",
    "else:\n",
    "    print(3)"
   ]
  },
  {
   "cell_type": "markdown",
   "metadata": {},
   "source": [
    "# Loops\n",
    "\n",
    "• Loops are used for repeating a set of statements.\n",
    "\n",
    "• There are two types of loops in Python\n",
    "\n",
    "    • For loops\n",
    "    \n",
    "    • While loops"
   ]
  },
  {
   "cell_type": "markdown",
   "metadata": {},
   "source": [
    "# For Loop \n",
    "\n",
    "• for loop takes a range() function.\n",
    "\n",
    "• range() takes three arguments; start, stop, step.\n",
    "\n",
    "• loop runs from start to stop 1 with an increment equal to step after every iteration."
   ]
  },
  {
   "cell_type": "code",
   "execution_count": 10,
   "metadata": {},
   "outputs": [
    {
     "name": "stdout",
     "output_type": "stream",
     "text": [
      "0\n",
      "2\n",
      "4\n",
      "6\n",
      "8\n",
      "10\n",
      "12\n",
      "14\n",
      "16\n",
      "18\n",
      "20\n"
     ]
    }
   ],
   "source": [
    "for i in range(0,21,2):\n",
    "    print(i)"
   ]
  },
  {
   "cell_type": "code",
   "execution_count": 11,
   "metadata": {},
   "outputs": [
    {
     "name": "stdout",
     "output_type": "stream",
     "text": [
      "0\n",
      "1\n",
      "2\n",
      "3\n",
      "4\n",
      "5\n",
      "6\n",
      "7\n",
      "8\n",
      "9\n",
      "10\n",
      "11\n",
      "12\n",
      "13\n",
      "14\n",
      "15\n",
      "16\n",
      "17\n",
      "18\n",
      "19\n",
      "20\n"
     ]
    }
   ],
   "source": [
    "# If we omit the step value, it is set to 1 by default.\n",
    "for i in range(0,21):\n",
    "    print(i)"
   ]
  },
  {
   "cell_type": "markdown",
   "metadata": {},
   "source": [
    "# while Loop\n",
    "\n",
    "• while loop takes a condition and runs as long as the condition is True.\n"
   ]
  },
  {
   "cell_type": "code",
   "execution_count": 12,
   "metadata": {},
   "outputs": [
    {
     "name": "stdout",
     "output_type": "stream",
     "text": [
      "1\n",
      "2\n",
      "3\n",
      "4\n",
      "5\n",
      "6\n",
      "7\n",
      "8\n",
      "9\n",
      "10\n"
     ]
    }
   ],
   "source": [
    "i = 1\n",
    "while i<=10:\n",
    "    print(i)\n",
    "    i=i+1"
   ]
  },
  {
   "cell_type": "markdown",
   "metadata": {},
   "source": [
    "# sequences\n",
    "\n",
    "• Python has following built in sequences (non primitive data types)\n",
    "\n",
    "    • Lists\n",
    "\n",
    "    • Dictionaries\n",
    "\n",
    "    • Tuples\n",
    "    \n",
    "• We can use the len () function to find the total number of elements in any"
   ]
  },
  {
   "cell_type": "code",
   "execution_count": 15,
   "metadata": {},
   "outputs": [],
   "source": [
    "flowers=['Rose','Lily', 'Tulip']"
   ]
  },
  {
   "cell_type": "code",
   "execution_count": 14,
   "metadata": {},
   "outputs": [
    {
     "data": {
      "text/plain": [
       "3"
      ]
     },
     "execution_count": 14,
     "metadata": {},
     "output_type": "execute_result"
    }
   ],
   "source": [
    "len(flowers)"
   ]
  },
  {
   "cell_type": "markdown",
   "metadata": {},
   "source": [
    "# Lists\n",
    "\n",
    "• Lists are used to store multiple values.\n",
    "\n",
    "• A list can have values of different data types.\n",
    "\n",
    "• Lists are mutable i.e., they can be modified."
   ]
  },
  {
   "cell_type": "markdown",
   "metadata": {},
   "source": [
    "# List Indexing\n",
    "\n",
    "• We can get the element at a particular position in the list using list indexing.\n",
    "\n",
    "• Remember, indices start at 0 and go until len (list) 1.\n",
    "\n",
    "• Consider the list above that contains names of three flowers. Hence, it’s length is 3.\n",
    "\n",
    "• If we call this list flowersList ,\n",
    "\n",
    "• flowersList [0] will give us Rose\n",
    "\n",
    "• flowersList [1] will give us Lily\n",
    "\n",
    "• flowersList [2] will give us Tulip\n"
   ]
  },
  {
   "cell_type": "markdown",
   "metadata": {},
   "source": [
    "# List Slicing\n",
    "\n",
    "• We can also slice a list.\n",
    "\n",
    "• For slicing a list, we give a starting index (inclusive) and an end index (exclusive).\n",
    "\n",
    "• If we call this list flowersList then;\n",
    "\n",
    "    • flowersList [0:2] will give us [Rose, Lily]\n",
    "\n",
    "    • flowersList [0:3] will give us [Rose, Lily, Tulip]\n",
    "    \n",
    "    • flowersList [1:2] will give us [Lily]\n"
   ]
  },
  {
   "cell_type": "markdown",
   "metadata": {},
   "source": [
    "# Iterating Over List\n",
    "\n",
    "• We can loop over a list using a modified form of for loop.\n"
   ]
  },
  {
   "cell_type": "code",
   "execution_count": 16,
   "metadata": {},
   "outputs": [
    {
     "name": "stdout",
     "output_type": "stream",
     "text": [
      "Rose\n",
      "Lily\n",
      "Tulip\n"
     ]
    }
   ],
   "source": [
    "flowers=['Rose','Lily', 'Tulip']\n",
    "for i in flowers:\n",
    "    print(i)\n"
   ]
  },
  {
   "cell_type": "markdown",
   "metadata": {},
   "source": [
    "# Dictionaries \n",
    "\n",
    "• Dictionaries are used to store key, value pairs.\n",
    "\n",
    "• A key and a value are separated by a colon (:).\n",
    "\n",
    "• Each key, value pair is separated by a comma (,).\n",
    "\n",
    "• Dictionaries are mutable i.e., they can be modified.\n",
    "\n",
    "• We can use .keys() function to get all the keys and .values() function to get all the values in\n",
    "the dictionary."
   ]
  },
  {
   "cell_type": "code",
   "execution_count": 17,
   "metadata": {},
   "outputs": [
    {
     "name": "stdout",
     "output_type": "stream",
     "text": [
      "{'English': 'A', 'Maths': 'B', 'History': 'C'}\n"
     ]
    }
   ],
   "source": [
    "grades_dict = {'English':'A', 'Maths':'B', 'History':'C'}\n",
    "print(grades_dict)"
   ]
  },
  {
   "cell_type": "code",
   "execution_count": 18,
   "metadata": {},
   "outputs": [
    {
     "name": "stdout",
     "output_type": "stream",
     "text": [
      "dict_keys(['English', 'Maths', 'History'])\n"
     ]
    }
   ],
   "source": [
    "print(grades_dict.keys())\n"
   ]
  },
  {
   "cell_type": "code",
   "execution_count": 19,
   "metadata": {},
   "outputs": [
    {
     "name": "stdout",
     "output_type": "stream",
     "text": [
      "dict_values(['A', 'B', 'C'])\n"
     ]
    }
   ],
   "source": [
    "print(grades_dict.values())"
   ]
  },
  {
   "cell_type": "markdown",
   "metadata": {},
   "source": [
    "• We can get a value associated with a key by passing the key."
   ]
  },
  {
   "cell_type": "code",
   "execution_count": 20,
   "metadata": {},
   "outputs": [
    {
     "name": "stdout",
     "output_type": "stream",
     "text": [
      "James\n",
      "30\n",
      "US\n"
     ]
    }
   ],
   "source": [
    "data = {\"Name\":\"James\", \"Age\":30,\"Country\":\"US\"}\n",
    "\n",
    "name=data[\"Name\"]\n",
    "age=data[\"Age\"]\n",
    "Country=data[\"Country\"]\n",
    "\n",
    "print(name)\n",
    "print(age)\n",
    "print(Country)"
   ]
  },
  {
   "cell_type": "markdown",
   "metadata": {},
   "source": [
    "## Iterating Over Dictionary\n",
    "\n",
    "•\n",
    "We can get all the key, value pairs in a Dictionary using a modified form of for loop."
   ]
  },
  {
   "cell_type": "code",
   "execution_count": 21,
   "metadata": {},
   "outputs": [
    {
     "name": "stdout",
     "output_type": "stream",
     "text": [
      "James\n",
      "30\n",
      "US\n"
     ]
    }
   ],
   "source": [
    "for key in data:\n",
    "    print(data[key])"
   ]
  },
  {
   "cell_type": "markdown",
   "metadata": {},
   "source": [
    "## Tuples (1/5)"
   ]
  },
  {
   "cell_type": "markdown",
   "metadata": {},
   "source": [
    "• Tuples are also used to store multiple values.\n",
    "\n",
    "• Tuples can have values of different data types.\n",
    "\n",
    "• Tuples are immutable i.e., they can not be modified.\n",
    "\n",
    "## Tuple Indexing\n",
    "\n",
    "• We can index a tuple just as we can index a list.\n",
    "\n",
    "• Consider the tuple above that contains names of three flowers. Hence, it’s length is 3.\n",
    "\n",
    "    • If we call this tuple flowersTuple ,\n",
    "\n",
    "        • flowersTuple [0] will give us Rose\n",
    "\n",
    "        • flowersTuple [1] will give us Lily\n",
    "\n",
    "        • flowersTuple [2] will give us Tulip\n"
   ]
  },
  {
   "cell_type": "markdown",
   "metadata": {},
   "source": [
    "## Tuple Slicing\n",
    "\n",
    "• Tuple slicing works the same way as list slicing.\n",
    "\n",
    "• If we call this tuple flowersTuple then;\n",
    "\n",
    "• flowersTuple [0:2] will give us (Rose,Lily)\n",
    "\n",
    "• flowersTuple [0:3] will give us (Rose, Lily,Tulip)\n",
    "\n",
    "• flowersTuple [1:2] will give us (Lily)"
   ]
  },
  {
   "cell_type": "code",
   "execution_count": 23,
   "metadata": {},
   "outputs": [
    {
     "name": "stdout",
     "output_type": "stream",
     "text": [
      "Rose\n",
      "Lily\n",
      "Tulip\n"
     ]
    }
   ],
   "source": [
    "flowers=('Rose','Lily', 'Tulip')\n",
    "for i in flowers:\n",
    "    print(i)"
   ]
  },
  {
   "cell_type": "code",
   "execution_count": null,
   "metadata": {},
   "outputs": [],
   "source": []
  }
 ],
 "metadata": {
  "kernelspec": {
   "display_name": "Python 3",
   "language": "python",
   "name": "python3"
  },
  "language_info": {
   "codemirror_mode": {
    "name": "ipython",
    "version": 3
   },
   "file_extension": ".py",
   "mimetype": "text/x-python",
   "name": "python",
   "nbconvert_exporter": "python",
   "pygments_lexer": "ipython3",
   "version": "3.8.17"
  },
  "orig_nbformat": 4
 },
 "nbformat": 4,
 "nbformat_minor": 2
}
