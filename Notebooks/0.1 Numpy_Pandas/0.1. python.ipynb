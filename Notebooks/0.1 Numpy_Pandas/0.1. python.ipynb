{
 "cells": [
  {
   "cell_type": "markdown",
   "metadata": {},
   "source": [
    "# Basics of Python"
   ]
  },
  {
   "cell_type": "code",
   "execution_count": 2,
   "metadata": {},
   "outputs": [
    {
     "name": "stdout",
     "output_type": "stream",
     "text": [
      "Hello, World!\n"
     ]
    }
   ],
   "source": [
    "print('Hello, World!')"
   ]
  },
  {
   "cell_type": "markdown",
   "metadata": {},
   "source": [
    "# Input/output"
   ]
  },
  {
   "cell_type": "code",
   "execution_count": 3,
   "metadata": {},
   "outputs": [
    {
     "name": "stdout",
     "output_type": "stream",
     "text": [
      "Welcome Chandan\n"
     ]
    }
   ],
   "source": [
    "name=input(\"Enter your name: \")\n",
    "print(\"Welcome\", name)\n"
   ]
  },
  {
   "cell_type": "markdown",
   "metadata": {},
   "source": [
    "# Different Data types"
   ]
  },
  {
   "cell_type": "markdown",
   "metadata": {},
   "source": [
    "- Python as following primitive data types: \n",
    "\n",
    "    - int: it is a whole number such as 1,5,6,65,1000.\n",
    "\n",
    "    - float: it is a decimal point number such as 1.5, 7.8, 100.0.\n",
    "\n",
    "    - string: it is a sequence of characters enclosed inside  double quotes or triple quotes such as \"Hello, world!\", \"name\"...etc.\n",
    "    \n",
    "    - bool: it is either True or False."
   ]
  },
  {
   "cell_type": "markdown",
   "metadata": {},
   "source": [
    "- Python also has following built-in non-primitive data types\n",
    "\n",
    "    - Lists.\n",
    "\n",
    "    - Dictionaries.\n",
    "\n",
    "    - Tuples."
   ]
  },
  {
   "cell_type": "markdown",
   "metadata": {},
   "source": [
    "# Type"
   ]
  },
  {
   "cell_type": "markdown",
   "metadata": {},
   "source": [
    "Type():  is a function used to get the type of a value/variable.\n"
   ]
  },
  {
   "cell_type": "code",
   "execution_count": 4,
   "metadata": {},
   "outputs": [
    {
     "name": "stdout",
     "output_type": "stream",
     "text": [
      "<class 'int'>\n"
     ]
    }
   ],
   "source": [
    "print(type(5))"
   ]
  },
  {
   "cell_type": "code",
   "execution_count": 5,
   "metadata": {},
   "outputs": [
    {
     "name": "stdout",
     "output_type": "stream",
     "text": [
      "<class 'str'>\n"
     ]
    }
   ],
   "source": [
    "print(type(\"hello\"))"
   ]
  },
  {
   "cell_type": "code",
   "execution_count": 6,
   "metadata": {},
   "outputs": [
    {
     "name": "stdout",
     "output_type": "stream",
     "text": [
      "<class 'bool'>\n"
     ]
    }
   ],
   "source": [
    "print(type(True))"
   ]
  },
  {
   "cell_type": "code",
   "execution_count": 7,
   "metadata": {},
   "outputs": [
    {
     "name": "stdout",
     "output_type": "stream",
     "text": [
      "<class 'float'>\n"
     ]
    }
   ],
   "source": [
    "print(type(0.5))"
   ]
  },
  {
   "cell_type": "markdown",
   "metadata": {},
   "source": [
    "# variables"
   ]
  },
  {
   "cell_type": "markdown",
   "metadata": {},
   "source": [
    "**Variables** are Place holders for values.\n",
    "\n",
    "Rules: \n",
    "\n",
    "    - Variables names can contain alphabets, integers and/or underscore (_) characteer.\n",
    "    \n",
    "    - variable names can not begin with a number. they can only begin with a letter or an underscore (_).\n",
    "\n",
    "    - Variable names can not contain whitespaces and special characters."
   ]
  },
  {
   "cell_type": "code",
   "execution_count": 10,
   "metadata": {},
   "outputs": [
    {
     "name": "stdout",
     "output_type": "stream",
     "text": [
      "1\n"
     ]
    }
   ],
   "source": [
    "x= 1\n",
    "print(x)"
   ]
  },
  {
   "cell_type": "code",
   "execution_count": 11,
   "metadata": {},
   "outputs": [
    {
     "name": "stdout",
     "output_type": "stream",
     "text": [
      "chandan\n"
     ]
    }
   ],
   "source": [
    "name=\"chandan\"\n",
    "print(name)"
   ]
  },
  {
   "cell_type": "markdown",
   "metadata": {},
   "source": [
    "# Airthmetic Operators"
   ]
  },
  {
   "cell_type": "markdown",
   "metadata": {},
   "source": [
    "- Addition: use the plus(+) for addition.\n",
    "\n",
    "- Substraction: use the minus (-) operator for substraction.\n",
    "\n",
    "- Multiplication: use the (*) operator for multiplication.\n",
    "\n",
    "- Division: \n",
    "    - there are two types of didvision in python.\n",
    "        - Float Division: use (/) for float division. if the result is integer, it is converted to a float by adding .0\n",
    "\n",
    "        - Integer Division: use (//) for integer division. if the result of is a float, it is converted to an integer by truncating the decimal part.\n",
    "\n",
    "- Modulo: Modulo operator return the reminder of ta division. use the (%) for modulo operator  "
   ]
  },
  {
   "cell_type": "code",
   "execution_count": 12,
   "metadata": {},
   "outputs": [
    {
     "name": "stdout",
     "output_type": "stream",
     "text": [
      "8\n"
     ]
    }
   ],
   "source": [
    "print(5+3)"
   ]
  },
  {
   "cell_type": "code",
   "execution_count": 13,
   "metadata": {},
   "outputs": [
    {
     "name": "stdout",
     "output_type": "stream",
     "text": [
      "2\n"
     ]
    }
   ],
   "source": [
    "print(5-3)"
   ]
  },
  {
   "cell_type": "code",
   "execution_count": 15,
   "metadata": {},
   "outputs": [
    {
     "name": "stdout",
     "output_type": "stream",
     "text": [
      "15\n"
     ]
    }
   ],
   "source": [
    "print(5*3)"
   ]
  },
  {
   "cell_type": "code",
   "execution_count": 16,
   "metadata": {},
   "outputs": [
    {
     "name": "stdout",
     "output_type": "stream",
     "text": [
      "1.6666666666666667\n"
     ]
    }
   ],
   "source": [
    "print(5/3)"
   ]
  },
  {
   "cell_type": "code",
   "execution_count": 17,
   "metadata": {},
   "outputs": [
    {
     "name": "stdout",
     "output_type": "stream",
     "text": [
      "1\n"
     ]
    }
   ],
   "source": [
    "print(5//3)"
   ]
  },
  {
   "cell_type": "code",
   "execution_count": 20,
   "metadata": {},
   "outputs": [
    {
     "name": "stdout",
     "output_type": "stream",
     "text": [
      "2\n"
     ]
    }
   ],
   "source": [
    "print(5%3)"
   ]
  },
  {
   "cell_type": "markdown",
   "metadata": {},
   "source": [
    "# Comparison operators"
   ]
  },
  {
   "cell_type": "markdown",
   "metadata": {},
   "source": [
    "**Comparison operators** are used to compare two values with each other.\n",
    "\n",
    "The result of a comparison operator is either True or False.\n",
    "\n",
    "We have the following comparison operators.\n",
    "\n",
    "    • Greater than (>)\n",
    "        - returns True if the value on the left is bigger than that on the right.\n",
    "\n",
    "    • Less than (<)\n",
    "        • returns True if the value on the left is smaller than that on the right.\n",
    "\n",
    "    • Greater than or equal to (>=)\n",
    "        • returns True if the value on the left is either bigger than or equal to the value on the right.\n",
    "\n",
    "    • Less than or equal to (<=)\n",
    "        • returns True if the value on the left is either smaller than or equal to the value on the right.\n",
    "\n",
    "    • Not equal to (!=)\n",
    "        • returns True if the value on the left is not equal to the value on the right.\n",
    "\n",
    "    • Is equal to (==)\n",
    "        • returns True if the value on the left is equal to the value on the right."
   ]
  },
  {
   "cell_type": "code",
   "execution_count": 1,
   "metadata": {},
   "outputs": [
    {
     "name": "stdout",
     "output_type": "stream",
     "text": [
      "True\n"
     ]
    }
   ],
   "source": [
    "print(20>3)"
   ]
  },
  {
   "cell_type": "code",
   "execution_count": 2,
   "metadata": {},
   "outputs": [
    {
     "name": "stdout",
     "output_type": "stream",
     "text": [
      "False\n"
     ]
    }
   ],
   "source": [
    "print(100<7)"
   ]
  },
  {
   "cell_type": "markdown",
   "metadata": {},
   "source": [
    "# Logical Operators"
   ]
  },
  {
   "cell_type": "markdown",
   "metadata": {},
   "source": [
    "• We can use logical operators to combine two or more conditions.\n",
    "\n",
    "• Python has three logical operators.\n",
    "\n",
    "    • And operator (and)\n",
    "\n",
    "    • Or operator (or)\n",
    "    \n",
    "    • Not operator (not)\n",
    "\n",
    "• and/or operators are binary as they take two operands.\n",
    "\n",
    "• Not is a unary operator as it takes only one operand.\n"
   ]
  },
  {
   "cell_type": "markdown",
   "metadata": {},
   "source": [
    "# And operator\n",
    "\n",
    "• **and** returns a True only if both the operands are True.\n",
    "\n",
    "• In python, we use the keyword ‘and’ to perform and operation.\n",
    "and operator"
   ]
  },
  {
   "cell_type": "code",
   "execution_count": 5,
   "metadata": {},
   "outputs": [
    {
     "name": "stdout",
     "output_type": "stream",
     "text": [
      "False\n"
     ]
    }
   ],
   "source": [
    "print((20>3) and (100<7))"
   ]
  },
  {
   "cell_type": "markdown",
   "metadata": {},
   "source": [
    "# Or operator\n",
    "\n",
    "• or returns a True if at least one of the operands is True.\n",
    "\n",
    "• In python, we use the keyword ‘or’ to perform or operation.\n"
   ]
  },
  {
   "cell_type": "code",
   "execution_count": 6,
   "metadata": {},
   "outputs": [
    {
     "name": "stdout",
     "output_type": "stream",
     "text": [
      "True\n"
     ]
    }
   ],
   "source": [
    "print((20>3) or (100<7))"
   ]
  },
  {
   "cell_type": "markdown",
   "metadata": {},
   "source": [
    "# Not operator\n",
    "\n",
    "• not is a unary operator.\n",
    "\n",
    "• not changes True to False and vice versa.\n",
    "\n",
    "• In python, we use the keyword ‘not’ to perform not operation.\n",
    "\n"
   ]
  },
  {
   "cell_type": "code",
   "execution_count": 7,
   "metadata": {},
   "outputs": [
    {
     "name": "stdout",
     "output_type": "stream",
     "text": [
      "True\n",
      "False\n"
     ]
    }
   ],
   "source": [
    "X = True\n",
    "print(X)\n",
    "print(not X)"
   ]
  },
  {
   "cell_type": "markdown",
   "metadata": {},
   "source": [
    "# Conditional Statements \n",
    "\n",
    "## Control Flow\n",
    "\n",
    "• Here is the general syntax of conditional statements\n",
    "\n",
    "    if condition:\n",
    "\n",
    "        block of statements to execute\n",
    "\n",
    "    elif condition:\n",
    "\n",
    "        block of statements to execute\n",
    "\n",
    "    else:\n",
    "\n",
    "        block of statements to execute\n",
    "\n",
    "\n",
    "• Conditions are evaluated in a top down manner.\n"
   ]
  },
  {
   "cell_type": "code",
   "execution_count": 8,
   "metadata": {},
   "outputs": [
    {
     "name": "stdout",
     "output_type": "stream",
     "text": [
      "2\n"
     ]
    }
   ],
   "source": [
    "if 5==6:\n",
    "    print(1)\n",
    "elif 6==6:\n",
    "    print(2)\n",
    "else:\n",
    "    print(3)"
   ]
  },
  {
   "cell_type": "code",
   "execution_count": null,
   "metadata": {},
   "outputs": [],
   "source": []
  }
 ],
 "metadata": {
  "kernelspec": {
   "display_name": "Python 3",
   "language": "python",
   "name": "python3"
  },
  "language_info": {
   "codemirror_mode": {
    "name": "ipython",
    "version": 3
   },
   "file_extension": ".py",
   "mimetype": "text/x-python",
   "name": "python",
   "nbconvert_exporter": "python",
   "pygments_lexer": "ipython3",
   "version": "3.8.17"
  },
  "orig_nbformat": 4
 },
 "nbformat": 4,
 "nbformat_minor": 2
}
