{
 "cells": [
  {
   "cell_type": "markdown",
   "metadata": {},
   "source": [
    "A RegEx, or Regular Expression, is a special sequence of characters that forms a search pattern.\n",
    "\n",
    "RegEx can be used to check if a **string** contains the specified search pattern.\n",
    "\n",
    "RegEx can also split a pattern into one or more sub patterns.\n",
    "\n",
    "Python, provides a re module whose primary function is to offer a search, where it takes a regular expression and a string.\n",
    "\n"
   ]
  },
  {
   "cell_type": "code",
   "execution_count": 3,
   "metadata": {},
   "outputs": [],
   "source": [
    "import re"
   ]
  },
  {
   "cell_type": "code",
   "execution_count": 4,
   "metadata": {},
   "outputs": [],
   "source": [
    "txt=\"The rain in Spain\"\n",
    "x=re.search(\"^The.*Spain$\", txt)"
   ]
  },
  {
   "cell_type": "code",
   "execution_count": 5,
   "metadata": {},
   "outputs": [
    {
     "data": {
      "text/plain": [
       "<re.Match object; span=(0, 17), match='The rain in Spain'>"
      ]
     },
     "execution_count": 5,
     "metadata": {},
     "output_type": "execute_result"
    }
   ],
   "source": [
    "x"
   ]
  },
  {
   "cell_type": "markdown",
   "metadata": {},
   "source": [
    "### RegEx Functions\n",
    "\n",
    "The re module offers a set of functions that allows us to search a string for a match:\n",
    "\n",
    "findall: Returns a list containing all.\n",
    "\n",
    "search: Returns a Match object if there is a match anywhere in the string.\n",
    "\n",
    "split: Returns a list where the string has been split at each match.\n",
    "\n",
    "sub: Replaces one or many matches with a string."
   ]
  },
  {
   "cell_type": "markdown",
   "metadata": {},
   "source": [
    "### Metacharacters\n",
    "\n",
    "Metacharacters are characters with a special meaning:"
   ]
  },
  {
   "cell_type": "code",
   "execution_count": 31,
   "metadata": {},
   "outputs": [
    {
     "name": "stdout",
     "output_type": "stream",
     "text": [
      "['h', 'e', 'a', 'i', 'i', 'a', 'i']\n",
      "<re.Match object; span=(1, 2), match='h'>\n"
     ]
    }
   ],
   "source": [
    "# []\tA set of characters\n",
    "\n",
    "txt = \"The rain in Spain\"\n",
    "\n",
    "#Find all lower case characters alphabetically between \"a\" and \"m\":\n",
    "\n",
    "x = re.findall(\"[a-m]\", txt)\n",
    "print(x)\n",
    "\n",
    "y=re.search(\"[a-m]\", txt)\n",
    "print(y)\n"
   ]
  },
  {
   "cell_type": "markdown",
   "metadata": {},
   "source": [
    "\"\" \\ \"\" : Signals a special sequence (can also be used to escape special characters)"
   ]
  },
  {
   "cell_type": "code",
   "execution_count": 8,
   "metadata": {},
   "outputs": [
    {
     "name": "stdout",
     "output_type": "stream",
     "text": [
      "['5', '9']\n"
     ]
    }
   ],
   "source": [
    "txt = \"That will be 59 dollars\"\n",
    "\n",
    "#Find all digit characters:\n",
    "\n",
    "x = re.findall(\"\\d\", txt)\n",
    "print(x)"
   ]
  },
  {
   "cell_type": "markdown",
   "metadata": {},
   "source": [
    "\"\". \"\"\tAny character (except newline character)"
   ]
  },
  {
   "cell_type": "code",
   "execution_count": 9,
   "metadata": {},
   "outputs": [
    {
     "name": "stdout",
     "output_type": "stream",
     "text": [
      "['hello']\n"
     ]
    }
   ],
   "source": [
    "txt = \"hello planet\"\n",
    "\n",
    "#Search for a sequence that starts with \"he\", followed by two (any) characters, and an \"o\":\n",
    "\n",
    "x = re.findall(\"he..o\", txt)\n",
    "print(x)\n"
   ]
  },
  {
   "cell_type": "markdown",
   "metadata": {},
   "source": [
    "\"\" ^ \"\"\tStarts with"
   ]
  },
  {
   "cell_type": "code",
   "execution_count": 10,
   "metadata": {},
   "outputs": [
    {
     "name": "stdout",
     "output_type": "stream",
     "text": [
      "Yes, the string starts with 'hello'\n"
     ]
    }
   ],
   "source": [
    "txt = \"hello planet\"\n",
    "\n",
    "#Check if the string starts with 'hello':\n",
    "\n",
    "x = re.findall(\"^hello\", txt)\n",
    "if x:\n",
    "  print(\"Yes, the string starts with 'hello'\")\n",
    "else:\n",
    "  print(\"No match\")\n"
   ]
  },
  {
   "cell_type": "markdown",
   "metadata": {},
   "source": [
    "\"\"$ \"\"\tEnds with"
   ]
  },
  {
   "cell_type": "code",
   "execution_count": 14,
   "metadata": {},
   "outputs": [
    {
     "name": "stdout",
     "output_type": "stream",
     "text": [
      "Yes, the string ends with 'planet'\n"
     ]
    }
   ],
   "source": [
    "x = re.findall(\"planet$\", txt)\n",
    "#Check if the string ends with 'planet':\n",
    "if x:\n",
    "  print(\"Yes, the string ends with 'planet'\")\n",
    "else:\n",
    "  print(\"No match\")"
   ]
  },
  {
   "cell_type": "markdown",
   "metadata": {},
   "source": [
    "\"\" * \"\"  Zero or more occurrences"
   ]
  },
  {
   "cell_type": "code",
   "execution_count": 22,
   "metadata": {},
   "outputs": [
    {
     "name": "stdout",
     "output_type": "stream",
     "text": [
      "['hello']\n"
     ]
    }
   ],
   "source": [
    "txt = \"hello planet\"\n",
    "\n",
    "#Search for a sequence that starts with \"he\", followed by 0 or more  (any) characters, and an \"o\":\n",
    "\n",
    "x = re.findall(\"he.*o\", txt)\n",
    "\n",
    "print(x)"
   ]
  },
  {
   "cell_type": "markdown",
   "metadata": {},
   "source": [
    "\"\" + \"\"\tOne or more occurrences"
   ]
  },
  {
   "cell_type": "code",
   "execution_count": 18,
   "metadata": {},
   "outputs": [
    {
     "name": "stdout",
     "output_type": "stream",
     "text": [
      "['hello']\n"
     ]
    }
   ],
   "source": [
    "txt = \"hello planet\"\n",
    "\n",
    "#Search for a sequence that starts with \"he\", followed by 1 or more  (any) characters, and an \"o\":\n",
    "\n",
    "x = re.findall(\"he.+o\", txt)\n",
    "\n",
    "print(x)"
   ]
  },
  {
   "cell_type": "markdown",
   "metadata": {},
   "source": [
    "\"\" ? \"\"\tZero or one occurrences"
   ]
  },
  {
   "cell_type": "code",
   "execution_count": 25,
   "metadata": {},
   "outputs": [
    {
     "name": "stdout",
     "output_type": "stream",
     "text": [
      "[]\n"
     ]
    }
   ],
   "source": [
    "txt = \"hello planet\"\n",
    "\n",
    "#Search for a sequence that starts with \"he\", followed by 0 or 1  (any) character, and an \"o\":\n",
    "\n",
    "x = re.findall(\"he.?o\", txt)\n",
    "\n",
    "print(x)\n",
    "\n",
    "#This time we got no match, because there were not zero, not one, but two characters between \"he\" and the \"o\""
   ]
  },
  {
   "cell_type": "markdown",
   "metadata": {},
   "source": [
    "\"\" {} \"\"\tExactly the specified number of occurrences"
   ]
  },
  {
   "cell_type": "code",
   "execution_count": 26,
   "metadata": {},
   "outputs": [
    {
     "name": "stdout",
     "output_type": "stream",
     "text": [
      "['hello']\n"
     ]
    }
   ],
   "source": [
    "#Search for a sequence that starts with \"he\", followed excactly 2 (any) characters, and an \"o\":\n",
    "\n",
    "x = re.findall(\"he.{2}o\", txt)\n",
    "\n",
    "print(x)"
   ]
  },
  {
   "cell_type": "markdown",
   "metadata": {},
   "source": [
    "\"\" | \"\"\tEither or"
   ]
  },
  {
   "cell_type": "code",
   "execution_count": 27,
   "metadata": {},
   "outputs": [
    {
     "name": "stdout",
     "output_type": "stream",
     "text": [
      "['falls']\n",
      "Yes, there is at least one match!\n"
     ]
    }
   ],
   "source": [
    "txt = \"The rain in Spain falls mainly in the plain!\"\n",
    "\n",
    "#Check if the string contains either \"falls\" or \"stays\":\n",
    "\n",
    "x = re.findall(\"falls|stays\", txt)\n",
    "\n",
    "print(x)\n",
    "\n",
    "if x:\n",
    "  print(\"Yes, there is at least one match!\")\n",
    "else:\n",
    "  print(\"No match\")\n"
   ]
  },
  {
   "cell_type": "markdown",
   "metadata": {},
   "source": [
    "## Special Sequences\n",
    "\n",
    "A special sequence is a \\ followed by one of the characters in the list below, and has a special meaning:"
   ]
  },
  {
   "cell_type": "markdown",
   "metadata": {},
   "source": [
    "**\\A** :\tReturns a match if the specified characters are at the beginning of the string"
   ]
  },
  {
   "cell_type": "code",
   "execution_count": 32,
   "metadata": {},
   "outputs": [
    {
     "name": "stdout",
     "output_type": "stream",
     "text": [
      "['The']\n",
      "Yes, there is a match!\n"
     ]
    }
   ],
   "source": [
    "txt = \"The rain in Spain\"\n",
    "\n",
    "#Check if the string starts with \"The\":\n",
    "\n",
    "x = re.findall(\"\\AThe\", txt)\n",
    "\n",
    "print(x)\n",
    "\n",
    "if x:\n",
    "  print(\"Yes, there is a match!\")\n",
    "else:\n",
    "  print(\"No match\")\n"
   ]
  },
  {
   "cell_type": "markdown",
   "metadata": {},
   "source": [
    "**\\b** : Returns a match where the specified characters are at the beginning or at the end of a word.\n"
   ]
  },
  {
   "cell_type": "code",
   "execution_count": 33,
   "metadata": {},
   "outputs": [
    {
     "name": "stdout",
     "output_type": "stream",
     "text": [
      "[]\n",
      "No match\n"
     ]
    }
   ],
   "source": [
    "#Check if \"ain\" is present at the beginning of a WORD:\n",
    "\n",
    "x = re.findall(r\"\\bain\", txt)\n",
    "\n",
    "print(x)\n",
    "\n",
    "if x:\n",
    "  print(\"Yes, there is at least one match!\")\n",
    "else:\n",
    "  print(\"No match\")\n"
   ]
  },
  {
   "cell_type": "code",
   "execution_count": 35,
   "metadata": {},
   "outputs": [
    {
     "name": "stdout",
     "output_type": "stream",
     "text": [
      "['ain', 'ain']\n",
      "Yes, there is at least one match!\n"
     ]
    }
   ],
   "source": [
    "#Check if \"ain\" is present at the End of a WORD:\n",
    "x=re.findall(r\"ain\\b\", txt)\n",
    "print(x)\n",
    "\n",
    "if x:\n",
    "  print(\"Yes, there is at least one match!\")\n",
    "else:\n",
    "  print(\"No match\")\n"
   ]
  },
  {
   "cell_type": "markdown",
   "metadata": {},
   "source": [
    "**\\B** :\tReturns a match where the specified characters are present, but NOT at the beginning (or at the end) of a word"
   ]
  },
  {
   "cell_type": "code",
   "execution_count": 36,
   "metadata": {},
   "outputs": [
    {
     "name": "stdout",
     "output_type": "stream",
     "text": [
      "['ain', 'ain']\n",
      "Yes, there is at least one match!\n"
     ]
    }
   ],
   "source": [
    "#Check if \"ain\" is present, but NOT at the beginning of a word:\n",
    "\n",
    "x = re.findall(r\"\\Bain\", txt)\n",
    "\n",
    "print(x)\n",
    "\n",
    "if x:\n",
    "  print(\"Yes, there is at least one match!\")\n",
    "else:\n",
    "  print(\"No match\")"
   ]
  },
  {
   "cell_type": "code",
   "execution_count": 37,
   "metadata": {},
   "outputs": [
    {
     "name": "stdout",
     "output_type": "stream",
     "text": [
      "[]\n",
      "No match\n"
     ]
    }
   ],
   "source": [
    "#Check if \"ain\" is present, but NOT at the end of a word:\n",
    "\n",
    "x = re.findall(r\"ain\\B\", txt)\n",
    "\n",
    "print(x)\n",
    "\n",
    "if x:\n",
    "  print(\"Yes, there is at least one match!\")\n",
    "else:\n",
    "  print(\"No match\")"
   ]
  },
  {
   "cell_type": "markdown",
   "metadata": {},
   "source": [
    "**\\d** : Returns a match where the string contains digits (numbers from 0-9)"
   ]
  },
  {
   "cell_type": "code",
   "execution_count": 38,
   "metadata": {},
   "outputs": [
    {
     "name": "stdout",
     "output_type": "stream",
     "text": [
      "[]\n",
      "No match\n"
     ]
    }
   ],
   "source": [
    "#Check if the string contains any digits (numbers from 0-9):\n",
    "\n",
    "x = re.findall(\"\\d\", txt)\n",
    "\n",
    "print(x)\n",
    "\n",
    "if x:\n",
    "  print(\"Yes, there is at least one match!\")\n",
    "else:\n",
    "  print(\"No match\")"
   ]
  },
  {
   "cell_type": "markdown",
   "metadata": {},
   "source": [
    "**\\D** : Returns a match where the string DOES NOT contain digits"
   ]
  },
  {
   "cell_type": "code",
   "execution_count": 39,
   "metadata": {},
   "outputs": [
    {
     "name": "stdout",
     "output_type": "stream",
     "text": [
      "['T', 'h', 'e', ' ', 'r', 'a', 'i', 'n', ' ', 'i', 'n', ' ', 'S', 'p', 'a', 'i', 'n']\n",
      "Yes, there is at least one match!\n"
     ]
    }
   ],
   "source": [
    "#Return a match at every no-digit character:\n",
    "\n",
    "x = re.findall(\"\\D\", txt)\n",
    "\n",
    "print(x)\n",
    "\n",
    "if x:\n",
    "  print(\"Yes, there is at least one match!\")\n",
    "else:\n",
    "  print(\"No match\")\n"
   ]
  },
  {
   "cell_type": "markdown",
   "metadata": {},
   "source": [
    "**\\s** :\tReturns a match where the string contains a white space character"
   ]
  },
  {
   "cell_type": "code",
   "execution_count": 40,
   "metadata": {},
   "outputs": [
    {
     "name": "stdout",
     "output_type": "stream",
     "text": [
      "[' ', ' ', ' ']\n",
      "Yes, there is at least one match!\n"
     ]
    }
   ],
   "source": [
    "#Return a match at every white-space character:\n",
    "\n",
    "x = re.findall(\"\\s\", txt)\n",
    "\n",
    "print(x)\n",
    "\n",
    "if x:\n",
    "  print(\"Yes, there is at least one match!\")\n",
    "else:\n",
    "  print(\"No match\")\n"
   ]
  },
  {
   "cell_type": "markdown",
   "metadata": {},
   "source": [
    "**\\S** :\tReturns a match where the string DOES NOT contain a white space character"
   ]
  },
  {
   "cell_type": "code",
   "execution_count": 41,
   "metadata": {},
   "outputs": [
    {
     "name": "stdout",
     "output_type": "stream",
     "text": [
      "['T', 'h', 'e', 'r', 'a', 'i', 'n', 'i', 'n', 'S', 'p', 'a', 'i', 'n']\n",
      "Yes, there is at least one match!\n"
     ]
    }
   ],
   "source": [
    "#Return a match at every NON white-space character:\n",
    "\n",
    "x = re.findall(\"\\S\", txt)\n",
    "\n",
    "print(x)\n",
    "\n",
    "if x:\n",
    "  print(\"Yes, there is at least one match!\")\n",
    "else:\n",
    "  print(\"No match\")"
   ]
  },
  {
   "cell_type": "markdown",
   "metadata": {},
   "source": [
    "**\\w** :\tReturns a match where the string contains any word characters"
   ]
  },
  {
   "cell_type": "code",
   "execution_count": 42,
   "metadata": {},
   "outputs": [
    {
     "name": "stdout",
     "output_type": "stream",
     "text": [
      "['T', 'h', 'e', 'r', 'a', 'i', 'n', 'i', 'n', 'S', 'p', 'a', 'i', 'n']\n",
      "Yes, there is at least one match!\n"
     ]
    }
   ],
   "source": [
    "#Return a match at every word character (characters from a to Z, digits from 0-9, and the underscore _ character):\n",
    "\n",
    "x = re.findall(\"\\w\", txt)\n",
    "\n",
    "print(x)\n",
    "\n",
    "if x:\n",
    "  print(\"Yes, there is at least one match!\")\n",
    "else:\n",
    "  print(\"No match\")\n"
   ]
  },
  {
   "cell_type": "markdown",
   "metadata": {},
   "source": [
    "**\\W** :\tReturns a match where the string DOES NOT contain any word characters"
   ]
  },
  {
   "cell_type": "code",
   "execution_count": 43,
   "metadata": {},
   "outputs": [
    {
     "name": "stdout",
     "output_type": "stream",
     "text": [
      "[' ', ' ', ' ']\n",
      "Yes, there is at least one match!\n"
     ]
    }
   ],
   "source": [
    "#Return a match at every NON word character (characters NOT between a and Z. Like \"!\", \"?\" white-space etc.):\n",
    "\n",
    "x = re.findall(\"\\W\", txt)\n",
    "\n",
    "print(x)\n",
    "\n",
    "if x:\n",
    "  print(\"Yes, there is at least one match!\")\n",
    "else:\n",
    "  print(\"No match\")\n"
   ]
  },
  {
   "cell_type": "markdown",
   "metadata": {},
   "source": [
    "**\\Z** :\tReturns a match if the specified characters are at the end of the string\t\"Spain\\Z\""
   ]
  },
  {
   "cell_type": "code",
   "execution_count": 47,
   "metadata": {},
   "outputs": [
    {
     "name": "stdout",
     "output_type": "stream",
     "text": [
      "['Spain']\n",
      "Yes, there is a match!\n"
     ]
    }
   ],
   "source": [
    "#Check if the string ends with \"Spain\":\n",
    "\n",
    "x = re.findall(\"Spain\\Z\", txt)\n",
    "\n",
    "print(x)\n",
    "\n",
    "if x:\n",
    "  print(\"Yes, there is a match!\")\n",
    "else:\n",
    "  print(\"No match\")\n"
   ]
  },
  {
   "cell_type": "markdown",
   "metadata": {},
   "source": [
    "## Sets\n",
    "\n",
    "A set is a set of characters inside a pair of square brackets [] with a special meaning:"
   ]
  },
  {
   "cell_type": "markdown",
   "metadata": {},
   "source": [
    "**[arn]** :\tReturns a match where one of the specified characters (a, r, or n) is present"
   ]
  },
  {
   "cell_type": "code",
   "execution_count": 48,
   "metadata": {},
   "outputs": [
    {
     "name": "stdout",
     "output_type": "stream",
     "text": [
      "['r', 'a', 'n', 'n', 'a', 'n']\n",
      "Yes, there is at least one match!\n"
     ]
    }
   ],
   "source": [
    "#Check if the string has any a, r, or n characters:\n",
    "\n",
    "x = re.findall(\"[arn]\", txt)\n",
    "\n",
    "print(x)\n",
    "\n",
    "if x:\n",
    "  print(\"Yes, there is at least one match!\")\n",
    "else:\n",
    "  print(\"No match\")\n"
   ]
  },
  {
   "cell_type": "markdown",
   "metadata": {},
   "source": [
    "**[a-n]** :\tReturns a match for any lower case character, alphabetically between a and n"
   ]
  },
  {
   "cell_type": "code",
   "execution_count": 50,
   "metadata": {},
   "outputs": [
    {
     "name": "stdout",
     "output_type": "stream",
     "text": [
      "['h', 'e', 'a', 'i', 'n', 'i', 'n', 'a', 'i', 'n']\n",
      "Yes, there is at least one match!\n"
     ]
    }
   ],
   "source": [
    "#Check if the string has any characters between a and n:\n",
    "x = re.findall(\"[a-n]\", txt)\n",
    "\n",
    "print(x)\n",
    "\n",
    "if x:\n",
    "  print(\"Yes, there is at least one match!\")\n",
    "else:\n",
    "  print(\"No match\")"
   ]
  },
  {
   "cell_type": "markdown",
   "metadata": {},
   "source": [
    "**[^arn]** :\tReturns a match for any character EXCEPT a, r, and n"
   ]
  },
  {
   "cell_type": "code",
   "execution_count": 51,
   "metadata": {},
   "outputs": [
    {
     "name": "stdout",
     "output_type": "stream",
     "text": [
      "['T', 'h', 'e', ' ', 'i', ' ', 'i', ' ', 'S', 'p', 'i']\n",
      "Yes, there is at least one match!\n"
     ]
    }
   ],
   "source": [
    "#Check if the string has other characters than a, r, or n:\n",
    "\n",
    "x = re.findall(\"[^arn]\", txt)\n",
    "\n",
    "print(x)\n",
    "\n",
    "if x:\n",
    "  print(\"Yes, there is at least one match!\")\n",
    "else:\n",
    "  print(\"No match\")\n"
   ]
  },
  {
   "cell_type": "markdown",
   "metadata": {},
   "source": [
    "**[0123]**\tReturns a match where any of the specified digits (0, 1, 2, or 3) are present"
   ]
  },
  {
   "cell_type": "code",
   "execution_count": 52,
   "metadata": {},
   "outputs": [
    {
     "name": "stdout",
     "output_type": "stream",
     "text": [
      "[]\n",
      "No match\n"
     ]
    }
   ],
   "source": [
    "#Check if the string has any 0, 1, 2, or 3 digits:\n",
    "\n",
    "x = re.findall(\"[0123]\", txt)\n",
    "\n",
    "print(x)\n",
    "\n",
    "if x:\n",
    "  print(\"Yes, there is at least one match!\")\n",
    "else:\n",
    "  print(\"No match\")\n"
   ]
  },
  {
   "cell_type": "markdown",
   "metadata": {},
   "source": [
    "**[0-9]**\t: Returns a match for any digit between 0 and 9"
   ]
  },
  {
   "cell_type": "code",
   "execution_count": 59,
   "metadata": {},
   "outputs": [
    {
     "name": "stdout",
     "output_type": "stream",
     "text": [
      "['8', '1', '1', '4', '5']\n",
      "Yes, there is at least one match!\n"
     ]
    }
   ],
   "source": [
    "txt = \"8 times before 11:45 AM\"\n",
    "#Check if the string has any digits:\n",
    "\n",
    "x = re.findall(\"[0-9]\", txt)\n",
    "\n",
    "print(x)\n",
    "\n",
    "if x:\n",
    "  print(\"Yes, there is at least one match!\")\n",
    "else:\n",
    "  print(\"No match\")\n"
   ]
  },
  {
   "cell_type": "markdown",
   "metadata": {},
   "source": [
    "**[0-5][0-9]** :\tReturns a match for any two-digit numbers from 00 and 59"
   ]
  },
  {
   "cell_type": "code",
   "execution_count": 54,
   "metadata": {},
   "outputs": [
    {
     "name": "stdout",
     "output_type": "stream",
     "text": [
      "['11', '45']\n",
      "Yes, there is at least one match!\n"
     ]
    }
   ],
   "source": [
    "txt = \"8 times before 11:45 AM\"\n",
    "\n",
    "#Check if the string has any two-digit numbers, from 00 to 59:\n",
    "\n",
    "x = re.findall(\"[0-5][0-9]\", txt)\n",
    "\n",
    "print(x)\n",
    "\n",
    "if x:\n",
    "  print(\"Yes, there is at least one match!\")\n",
    "else:\n",
    "  print(\"No match\")"
   ]
  },
  {
   "cell_type": "markdown",
   "metadata": {},
   "source": [
    "**[a-zA-Z]** :\tReturns a match for any character alphabetically between a and z, lower case OR upper case"
   ]
  },
  {
   "cell_type": "code",
   "execution_count": 55,
   "metadata": {},
   "outputs": [
    {
     "name": "stdout",
     "output_type": "stream",
     "text": [
      "['t', 'i', 'm', 'e', 's', 'b', 'e', 'f', 'o', 'r', 'e', 'A', 'M']\n",
      "Yes, there is at least one match!\n"
     ]
    }
   ],
   "source": [
    "#Check if the string has any characters from a to z lower case, and A to Z upper case:\n",
    "\n",
    "x = re.findall(\"[a-zA-Z]\", txt)\n",
    "\n",
    "print(x)\n",
    "\n",
    "if x:\n",
    "  print(\"Yes, there is at least one match!\")\n",
    "else:\n",
    "  print(\"No match\")"
   ]
  },
  {
   "cell_type": "markdown",
   "metadata": {},
   "source": [
    "**[+]** :\tIn sets, +, *, ., |, (), $,{} has no special meaning, so [+] means: return a match for any + character in the string\t\n"
   ]
  },
  {
   "cell_type": "code",
   "execution_count": 58,
   "metadata": {},
   "outputs": [
    {
     "name": "stdout",
     "output_type": "stream",
     "text": [
      "[]\n",
      "No match\n"
     ]
    }
   ],
   "source": [
    "txt = \"8 times before 11:45 AM\"\n",
    "\n",
    "#Check if the string has any + characters:\n",
    "\n",
    "x = re.findall(\"[+]\", txt)\n",
    "\n",
    "print(x)\n",
    "\n",
    "if x:\n",
    "  print(\"Yes, there is at least one match!\")\n",
    "else:\n",
    "  print(\"No match\")\n"
   ]
  },
  {
   "cell_type": "markdown",
   "metadata": {},
   "source": [
    "## The findall() Function\n",
    "\n",
    "The findall() function returns a list containing all matches."
   ]
  },
  {
   "cell_type": "code",
   "execution_count": 60,
   "metadata": {},
   "outputs": [
    {
     "name": "stdout",
     "output_type": "stream",
     "text": [
      "['ai', 'ai']\n"
     ]
    }
   ],
   "source": [
    "txt = \"The rain in Spain\"\n",
    "x = re.findall(\"ai\", txt)\n",
    "print(x)"
   ]
  },
  {
   "cell_type": "markdown",
   "metadata": {},
   "source": [
    "The list contains the matches in the order they are found.\n",
    "\n",
    "If no matches are found, an empty list is returned:"
   ]
  },
  {
   "cell_type": "code",
   "execution_count": 61,
   "metadata": {},
   "outputs": [
    {
     "name": "stdout",
     "output_type": "stream",
     "text": [
      "[]\n"
     ]
    }
   ],
   "source": [
    "txt = \"The rain in Spain\"\n",
    "x = re.findall(\"Portugal\", txt)\n",
    "print(x)"
   ]
  },
  {
   "cell_type": "markdown",
   "metadata": {},
   "source": [
    "## The search() Function\n",
    "\n",
    "The search() function searches the string for a match, and returns a **Match object** if there is a match.\n",
    "\n",
    "If there is more than one match, only the first occurrence of the match will be returned:"
   ]
  },
  {
   "cell_type": "code",
   "execution_count": 62,
   "metadata": {},
   "outputs": [
    {
     "name": "stdout",
     "output_type": "stream",
     "text": [
      "The first white-space character is located in position: 3\n"
     ]
    }
   ],
   "source": [
    "x = re.search(\"\\s\", txt)\n",
    "\n",
    "print(\"The first white-space character is located in position:\", x.start())\n"
   ]
  },
  {
   "cell_type": "markdown",
   "metadata": {},
   "source": [
    "If no matches are found, the value None is returned:"
   ]
  },
  {
   "cell_type": "code",
   "execution_count": 63,
   "metadata": {},
   "outputs": [
    {
     "name": "stdout",
     "output_type": "stream",
     "text": [
      "None\n"
     ]
    }
   ],
   "source": [
    "x = re.search(\"Portugal\", txt)\n",
    "print(x)"
   ]
  },
  {
   "cell_type": "markdown",
   "metadata": {},
   "source": [
    "### The split() Function\n",
    "\n",
    "The split() function returns a list where the string has been split at each match:"
   ]
  },
  {
   "cell_type": "code",
   "execution_count": 64,
   "metadata": {},
   "outputs": [
    {
     "name": "stdout",
     "output_type": "stream",
     "text": [
      "['The', 'rain', 'in', 'Spain']\n"
     ]
    }
   ],
   "source": [
    "x = re.split(\"\\s\", txt)\n",
    "print(x)"
   ]
  },
  {
   "cell_type": "markdown",
   "metadata": {},
   "source": [
    "You can control the number of occurrences by specifying the maxsplit parameter:\n"
   ]
  },
  {
   "cell_type": "code",
   "execution_count": 65,
   "metadata": {},
   "outputs": [
    {
     "name": "stdout",
     "output_type": "stream",
     "text": [
      "['The', 'rain in Spain']\n"
     ]
    }
   ],
   "source": [
    "x = re.split(\"\\s\", txt, 1)\n",
    "print(x)"
   ]
  },
  {
   "cell_type": "markdown",
   "metadata": {},
   "source": [
    "## The sub() Function\n",
    "\n",
    "The sub() function replaces the matches with the text of your choice:"
   ]
  },
  {
   "cell_type": "code",
   "execution_count": 66,
   "metadata": {},
   "outputs": [
    {
     "name": "stdout",
     "output_type": "stream",
     "text": [
      "The9rain9in9Spain\n"
     ]
    }
   ],
   "source": [
    "x = re.sub(\"\\s\", \"9\", txt)\n",
    "print(x)"
   ]
  },
  {
   "cell_type": "markdown",
   "metadata": {},
   "source": [
    "You can control the number of replacements by specifying the count parameter:"
   ]
  },
  {
   "cell_type": "code",
   "execution_count": 67,
   "metadata": {},
   "outputs": [
    {
     "name": "stdout",
     "output_type": "stream",
     "text": [
      "The9rain9in Spain\n"
     ]
    }
   ],
   "source": [
    "x = re.sub(\"\\s\", \"9\", txt, 2)\n",
    "print(x)"
   ]
  },
  {
   "cell_type": "markdown",
   "metadata": {},
   "source": [
    "Match Object\n",
    "\n",
    "A Match Object is an object containing information about the search and the result."
   ]
  },
  {
   "cell_type": "markdown",
   "metadata": {},
   "source": [
    "Note: If there is no match, the value None will be returned, instead of the Match Object."
   ]
  },
  {
   "cell_type": "code",
   "execution_count": 68,
   "metadata": {},
   "outputs": [
    {
     "name": "stdout",
     "output_type": "stream",
     "text": [
      "<re.Match object; span=(5, 7), match='ai'>\n"
     ]
    }
   ],
   "source": [
    "x = re.search(\"ai\", txt)\n",
    "print(x) #this will print an object"
   ]
  },
  {
   "cell_type": "markdown",
   "metadata": {},
   "source": [
    "### The Match object has properties and methods used to retrieve information about the search, and the result:\n",
    "\n",
    ".span() returns a tuple containing the start-, and end positions of the match.\n"
   ]
  },
  {
   "cell_type": "code",
   "execution_count": 69,
   "metadata": {},
   "outputs": [
    {
     "name": "stdout",
     "output_type": "stream",
     "text": [
      "(12, 17)\n"
     ]
    }
   ],
   "source": [
    "# The regular expression looks for any words that starts with an upper case \"S\":\n",
    "\n",
    "x = re.search(r\"\\bS\\w+\", txt)\n",
    "print(x.span())"
   ]
  },
  {
   "cell_type": "markdown",
   "metadata": {},
   "source": [
    ".string returns the string passed into the function"
   ]
  },
  {
   "cell_type": "code",
   "execution_count": 70,
   "metadata": {},
   "outputs": [
    {
     "name": "stdout",
     "output_type": "stream",
     "text": [
      "The rain in Spain\n"
     ]
    }
   ],
   "source": [
    "x = re.search(r\"\\bS\\w+\", txt)\n",
    "print(x.string)"
   ]
  },
  {
   "cell_type": "markdown",
   "metadata": {},
   "source": [
    ".group() returns the part of the string where there was a match"
   ]
  },
  {
   "cell_type": "code",
   "execution_count": 71,
   "metadata": {},
   "outputs": [
    {
     "name": "stdout",
     "output_type": "stream",
     "text": [
      "Spain\n"
     ]
    }
   ],
   "source": [
    "x = re.search(r\"\\bS\\w+\", txt)\n",
    "print(x.group())"
   ]
  },
  {
   "cell_type": "code",
   "execution_count": 75,
   "metadata": {},
   "outputs": [
    {
     "name": "stdout",
     "output_type": "stream",
     "text": [
      "incorrect number\n"
     ]
    }
   ],
   "source": [
    "phn=\"7892-0077-580\"\n",
    "\n",
    "if re.search(\"\\d{4}-\\d{3}-\\d{3}\",phn):\n",
    "    print(\"it is a valid number\")\n",
    "else:\n",
    "    print(\"incorrect number\")\n",
    "    "
   ]
  },
  {
   "cell_type": "code",
   "execution_count": 85,
   "metadata": {},
   "outputs": [
    {
     "name": "stdout",
     "output_type": "stream",
     "text": [
      "['chandanregins1@gmail.com', 'kumar217462@gmail.com', 'van.chandan@yahoo.in', 'nayak.layak@gmail.com']\n"
     ]
    }
   ],
   "source": [
    "email=\"chandanregins1@gmail.com  kumar217462@gmail.com van.chandan@yahoo.in nayak.layak@gmail.com\"\n",
    "\n",
    "x = re.findall(r\"[\\w.%+-]+@[\\w-]+\\.[a-zA-Z]{2,4}\", email)\n",
    "print(x)"
   ]
  },
  {
   "cell_type": "code",
   "execution_count": 91,
   "metadata": {},
   "outputs": [
    {
     "name": "stdout",
     "output_type": "stream",
     "text": [
      "['chandanregins1@gmail.com', 'kumar217462@gmail.com', 'van.chandan@yahoo.in', 'nayak.layak@gmail.com']\n"
     ]
    }
   ],
   "source": [
    "x=re.findall(\"[\\w.]{0,20}@[\\w]{0,15}.[a-zA-Z]{0,3}\",email)\n",
    "print(x)"
   ]
  },
  {
   "cell_type": "code",
   "execution_count": 92,
   "metadata": {},
   "outputs": [
    {
     "data": {
      "text/plain": [
       "list"
      ]
     },
     "execution_count": 92,
     "metadata": {},
     "output_type": "execute_result"
    }
   ],
   "source": [
    "type(x)"
   ]
  },
  {
   "cell_type": "code",
   "execution_count": null,
   "metadata": {},
   "outputs": [],
   "source": []
  }
 ],
 "metadata": {
  "kernelspec": {
   "display_name": "Python 3",
   "language": "python",
   "name": "python3"
  },
  "language_info": {
   "codemirror_mode": {
    "name": "ipython",
    "version": 3
   },
   "file_extension": ".py",
   "mimetype": "text/x-python",
   "name": "python",
   "nbconvert_exporter": "python",
   "pygments_lexer": "ipython3",
   "version": "3.8.17"
  },
  "orig_nbformat": 4
 },
 "nbformat": 4,
 "nbformat_minor": 2
}
