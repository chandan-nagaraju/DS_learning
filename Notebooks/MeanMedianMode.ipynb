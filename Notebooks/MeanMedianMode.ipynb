{
 "cells": [
  {
   "cell_type": "markdown",
   "metadata": {},
   "source": [
    "# Mean, Median, Mode, and introducing NumPy"
   ]
  },
  {
   "cell_type": "markdown",
   "metadata": {},
   "source": [
    "## Mean vs. Median"
   ]
  },
  {
   "cell_type": "markdown",
   "metadata": {},
   "source": [
    "Let's create some fake income data, centered around 27,000 with a normal distribution and standard deviation of 15,000, with 10,000 data points. (We'll discuss those terms more later, if you're not familiar with them.)\n",
    "\n",
    "Then, compute the mean (average) - it should be close to 27,000:"
   ]
  },
  {
   "cell_type": "code",
   "execution_count": 1,
   "metadata": {},
   "outputs": [
    {
     "data": {
      "text/plain": [
       "27154.313305023767"
      ]
     },
     "execution_count": 1,
     "metadata": {},
     "output_type": "execute_result"
    }
   ],
   "source": [
    "import numpy as np\n",
    "\n",
    "incomes = np.random.normal(27000, 15000, 10000)\n",
    "np.mean(incomes)"
   ]
  },
  {
   "cell_type": "markdown",
   "metadata": {},
   "source": [
    "We can segment the income data into 50 buckets, and plot it as a histogram:"
   ]
  },
  {
   "cell_type": "code",
   "execution_count": 2,
   "metadata": {},
   "outputs": [
    {
     "data": {
      "image/png": "[encoded data removed]",
      "text/plain": [
       "<Figure size 640x480 with 1 Axes>"
      ]
     },
     "metadata": {},
     "output_type": "display_data"
    }
   ],
   "source": [
    "%matplotlib inline\n",
    "import matplotlib.pyplot as plt\n",
    "plt.hist(incomes, 50)\n",
    "plt.show()"
   ]
  },
  {
   "cell_type": "markdown",
   "metadata": {},
   "source": [
    "Now compute the median - since we have a nice, even distribution it too should be close to 27,000:"
   ]
  },
  {
   "cell_type": "code",
   "execution_count": 3,
   "metadata": {},
   "outputs": [
    {
     "data": {
      "text/plain": [
       "27038.832424236425"
      ]
     },
     "execution_count": 3,
     "metadata": {},
     "output_type": "execute_result"
    }
   ],
   "source": [
    "np.median(incomes)"
   ]
  },
  {
   "cell_type": "markdown",
   "metadata": {},
   "source": [
    "Now we'll add Jeff Bezos into the mix. Darn income inequality!"
   ]
  },
  {
   "cell_type": "code",
   "execution_count": 4,
   "metadata": {},
   "outputs": [],
   "source": [
    "incomes = np.append(incomes, [1000000000])"
   ]
  },
  {
   "cell_type": "markdown",
   "metadata": {},
   "source": [
    "The median won't change much, but the mean does:"
   ]
  },
  {
   "cell_type": "code",
   "execution_count": 5,
   "metadata": {},
   "outputs": [
    {
     "data": {
      "text/plain": [
       "27039.220653639688"
      ]
     },
     "execution_count": 5,
     "metadata": {},
     "output_type": "execute_result"
    }
   ],
   "source": [
    "np.median(incomes)"
   ]
  },
  {
   "cell_type": "code",
   "execution_count": 6,
   "metadata": {},
   "outputs": [
    {
     "data": {
      "text/plain": [
       "127141.59914510926"
      ]
     },
     "execution_count": 6,
     "metadata": {},
     "output_type": "execute_result"
    }
   ],
   "source": [
    "np.mean(incomes)"
   ]
  },
  {
   "cell_type": "markdown",
   "metadata": {},
   "source": [
    "## Mode"
   ]
  },
  {
   "cell_type": "markdown",
   "metadata": {},
   "source": [
    "Next, let's generate some fake age data for 500 people:"
   ]
  },
  {
   "cell_type": "code",
   "execution_count": 7,
   "metadata": {},
   "outputs": [
    {
     "data": {
      "text/plain": [
       "array([86, 29, 43, 24, 74, 61, 64, 64, 74, 51, 54, 78, 66, 37, 82, 19, 68,\n",
       "       45, 23, 82, 49, 59, 58, 19, 25, 33, 20, 34, 49, 56, 46, 32, 48, 64,\n",
       "       42, 45, 41, 48, 85, 51, 63, 19, 80, 55, 20, 26, 21, 74, 86, 58, 21,\n",
       "       27, 60, 45, 81, 19, 53, 59, 40, 82, 64, 79, 61, 70, 87, 56, 88, 29,\n",
       "       80, 26, 49, 77, 19, 70, 68, 78, 56, 85, 86, 26, 53, 36, 79, 50, 24,\n",
       "       19, 78, 60, 26, 35, 20, 21, 47, 18, 73, 87, 39, 49, 28, 47, 81, 85,\n",
       "       33, 26, 73, 69, 28, 18, 61, 47, 43, 46, 65, 36, 51, 73, 77, 25, 74,\n",
       "       56, 26, 83, 36, 59, 66, 39, 70, 53, 83, 69, 31, 64, 46, 18, 51, 33,\n",
       "       61, 89, 22, 22, 69, 68, 47, 64, 20, 32, 44, 52, 38, 52, 76, 45, 35,\n",
       "       49, 40, 35, 24, 74, 72, 21, 59, 64, 33, 30, 80, 20, 44, 80, 82, 62,\n",
       "       71, 26, 69, 52, 58, 43, 31, 45, 64, 86, 39, 30, 40, 29, 37, 85, 69,\n",
       "       35, 56, 49, 59, 72, 54, 63, 32, 34, 74, 19, 82, 51, 57, 29, 79, 62,\n",
       "       67, 42, 34, 34, 79, 78, 38, 43, 31, 50, 78, 84, 22, 56, 85, 35, 41,\n",
       "       89, 71, 29, 26, 65, 56, 54, 24, 74, 70, 69, 31, 76, 45, 19, 37, 84,\n",
       "       25, 63, 82, 43, 37, 67, 56, 69, 58, 53, 89, 25, 68, 45, 23, 60, 27,\n",
       "       70, 89, 48, 24, 77, 76, 87, 28, 74, 34, 81, 74, 73, 52, 88, 81, 69,\n",
       "       73, 63, 28, 27, 81, 79, 18, 69, 36, 33, 72, 64, 47, 87, 84, 80, 85,\n",
       "       46, 84, 27, 44, 57, 29, 88, 48, 35, 42, 33, 63, 42, 27, 25, 83, 75,\n",
       "       44, 67, 62, 26, 75, 85, 24, 19, 56, 78, 86, 50, 22, 44, 23, 39, 48,\n",
       "       38, 88, 48, 35, 67, 51, 86, 89, 64, 45, 19, 89, 42, 18, 70, 36, 51,\n",
       "       50, 33, 71, 35, 58, 76, 68, 27, 27, 65, 36, 37, 36, 68, 74, 22, 28,\n",
       "       24, 30, 61, 79, 75, 41, 26, 21, 59, 67, 66, 37, 57, 82, 41, 65, 84,\n",
       "       55, 40, 84, 36, 45, 45, 42, 51, 89, 28, 85, 29, 23, 88, 86, 55, 37,\n",
       "       30, 50, 41, 83, 57, 63, 27, 22, 27, 84, 67, 60, 46, 57, 21, 39, 53,\n",
       "       88, 67, 50, 64, 19, 25, 72, 33, 65, 52, 52, 43, 57, 29, 55, 64, 41,\n",
       "       87, 55, 43, 37, 33, 34, 30, 22, 80, 85, 76, 19, 55, 50, 53, 81, 36,\n",
       "       63, 44, 71, 85, 26, 34, 69, 75, 62, 33, 83, 62, 80, 29, 56, 72, 32,\n",
       "       71, 26, 23, 21, 35, 86, 39, 38, 79, 50, 21, 77, 65, 68, 87, 87, 57,\n",
       "       87, 31, 61, 89, 51, 43, 58, 46, 71, 73, 24, 21, 43, 64, 49, 50, 50,\n",
       "       75, 64, 20, 20, 54, 42, 70])"
      ]
     },
     "execution_count": 7,
     "metadata": {},
     "output_type": "execute_result"
    }
   ],
   "source": [
    "ages = np.random.randint(18, high=90, size=500)\n",
    "ages"
   ]
  },
  {
   "cell_type": "code",
   "execution_count": 8,
   "metadata": {},
   "outputs": [
    {
     "name": "stderr",
     "output_type": "stream",
     "text": [
      "C:\\Users\\chand\\AppData\\Local\\Temp\\ipykernel_13956\\2994774060.py:2: FutureWarning: Unlike other reduction functions (e.g. `skew`, `kurtosis`), the default behavior of `mode` typically preserves the axis it acts along. In SciPy 1.11.0, this behavior will change: the default value of `keepdims` will become False, the `axis` over which the statistic is taken will be eliminated, and the value None will no longer be accepted. Set `keepdims` to True or False to avoid this warning.\n",
      "  stats.mode(ages)\n"
     ]
    },
    {
     "data": {
      "text/plain": [
       "ModeResult(mode=array([64]), count=array([14]))"
      ]
     },
     "execution_count": 8,
     "metadata": {},
     "output_type": "execute_result"
    }
   ],
   "source": [
    "from scipy import stats\n",
    "stats.mode(ages)"
   ]
  },
  {
   "cell_type": "code",
   "execution_count": null,
   "metadata": {},
   "outputs": [],
   "source": []
  }
 ],
 "metadata": {
  "kernelspec": {
   "display_name": "Python 3",
   "language": "python",
   "name": "python3"
  },
  "language_info": {
   "codemirror_mode": {
    "name": "ipython",
    "version": 3
   },
   "file_extension": ".py",
   "mimetype": "text/x-python",
   "name": "python",
   "nbconvert_exporter": "python",
   "pygments_lexer": "ipython3",
   "version": "3.8.17"
  }
 },
 "nbformat": 4,
 "nbformat_minor": 1
}
