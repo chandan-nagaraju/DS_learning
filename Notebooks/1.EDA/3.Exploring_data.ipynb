{
 "cells": [
  {
   "cell_type": "markdown",
   "metadata": {},
   "source": [
    "# Exploring the data.\n",
    "Each of the estimates we’ve covered sums up the data in a single number to describe the location or variability of the data. It is also useful to explore how the data is distributed overall."
   ]
  },
  {
   "cell_type": "markdown",
   "metadata": {},
   "source": [
    "### KEY TERMS FOR EXPLORING THE DISTRIBUTION\n",
    "### Boxplot\n",
    "- A plot introduced by Tukey as a quick way to visualize the distribution of data.\n",
    "    - Synonym\n",
    "        - box and whiskers plot\n",
    "\n",
    "### Frequency table\n",
    "- A tally of the count of numeric data values that fall into a set of intervals (bins).\n",
    "\n",
    "### Histogram\n",
    "- A plot of the frequency table with the bins on the x-axis and the count (or proportion) on the y-axis. While visually similar, bar charts should not be confused with histograms.\n",
    "### Density plot\n",
    "- A smoothed version of the histogram, often based on a kernel density estimate."
   ]
  },
  {
   "cell_type": "markdown",
   "metadata": {},
   "source": [
    "## Percentiles and Boxplots\n",
    "- we explored how percentiles can be used to measure the spread of the data. Percentiles are also valuable for summarizing the entire distribution. It is common to report the quartiles (25th, 50th, and 75th percentiles) and the deciles (the 10th, 20th, …, 90th percentiles)."
   ]
  },
  {
   "cell_type": "code",
   "execution_count": 1,
   "metadata": {},
   "outputs": [],
   "source": [
    "%matplotlib inline\n",
    "\n",
    "import pandas as pd\n",
    "import numpy as np\n",
    "from scipy.stats import trim_mean\n",
    "from statsmodels import robust\n",
    "import wquantiles\n",
    "\n",
    "import seaborn as sns\n",
    "import matplotlib.pylab as plt"
   ]
  },
  {
   "cell_type": "code",
   "execution_count": 2,
   "metadata": {},
   "outputs": [
    {
     "name": "stdout",
     "output_type": "stream",
     "text": [
      "         State  Population  Murder.Rate Abbreviation\n",
      "0      Alabama     4779736          5.7           AL\n",
      "1       Alaska      710231          5.6           AK\n",
      "2      Arizona     6392017          4.7           AZ\n",
      "3     Arkansas     2915918          5.6           AR\n",
      "4   California    37253956          4.4           CA\n",
      "5     Colorado     5029196          2.8           CO\n",
      "6  Connecticut     3574097          2.4           CT\n",
      "7     Delaware      897934          5.8           DE\n"
     ]
    }
   ],
   "source": [
    "state = pd.read_csv(r'G:\\data_science\\data\\state.csv')\n",
    "print(state.head(8))"
   ]
  },
  {
   "cell_type": "code",
   "execution_count": 3,
   "metadata": {},
   "outputs": [
    {
     "data": {
      "text/plain": [
       "0.05    1.600\n",
       "0.25    2.425\n",
       "0.50    4.000\n",
       "0.75    5.550\n",
       "0.95    6.510\n",
       "Name: Murder.Rate, dtype: float64"
      ]
     },
     "execution_count": 3,
     "metadata": {},
     "output_type": "execute_result"
    }
   ],
   "source": [
    "#The pandas data frame method quantile provides it in Python:\n",
    "state['Murder.Rate'].quantile([0.05, 0.25, 0.5, 0.75, 0.95])"
   ]
  },
  {
   "cell_type": "code",
   "execution_count": 4,
   "metadata": {},
   "outputs": [
    {
     "data": {
      "text/plain": [
       "Text(0, 0.5, 'Population (millions)')"
      ]
     },
     "execution_count": 4,
     "metadata": {},
     "output_type": "execute_result"
    },
    {
     "data": {
      "image/png": "[encoded data removed]",
      "text/plain": [
       "<Figure size 640x480 with 1 Axes>"
      ]
     },
     "metadata": {},
     "output_type": "display_data"
    }
   ],
   "source": [
    "#Boxplots, introduced by Tukey [Tukey-1977], are based on percentiles and give a quick way to visualize the distribution of data.\n",
    "ax=(state['Population']/1000000).plot(kind='box')\n",
    "ax.set_ylabel('Population (millions)')"
   ]
  },
  {
   "cell_type": "markdown",
   "metadata": {},
   "source": [
    "- From this boxplot we can immediately see that the median state population is about 5 million.\n",
    "- half the states fall between about 2 million and about 7 million, and there are some high population outliers.\n",
    "- The top and bottom of the box are the 75th and 25th percentiles, respectively. \n",
    "- The median is shown by the horizontal line in the box. \n",
    "- The dashed lines, referred to as whiskers, extend from the top and bottom of the box to indicate the range for the bulk of the data. \n",
    "\n",
    "- Any data outside of the whiskers is plotted as single points or circles (often considered outliers)."
   ]
  },
  {
   "cell_type": "markdown",
   "metadata": {},
   "source": [
    "## Frequency Tables\n",
    "- A frequency table of a variable divides up the variable range into equally spaced segments and tells us how many values fall within each \n",
    "\n",
    "- The function pandas.cut creates a series that maps the values into the segments. \n",
    "\n",
    "- Using the method value_counts, we get the frequency table:"
   ]
  },
  {
   "cell_type": "code",
   "execution_count": 5,
   "metadata": {},
   "outputs": [
    {
     "data": {
      "text/plain": [
       "Population\n",
       "(526935.67, 4232659.0]      24\n",
       "(4232659.0, 7901692.0]      14\n",
       "(7901692.0, 11570725.0]      6\n",
       "(11570725.0, 15239758.0]     2\n",
       "(15239758.0, 18908791.0]     1\n",
       "(18908791.0, 22577824.0]     1\n",
       "(22577824.0, 26246857.0]     1\n",
       "(33584923.0, 37253956.0]     1\n",
       "(26246857.0, 29915890.0]     0\n",
       "(29915890.0, 33584923.0]     0\n",
       "Name: count, dtype: int64"
      ]
     },
     "execution_count": 5,
     "metadata": {},
     "output_type": "execute_result"
    }
   ],
   "source": [
    "binnedPopulation=pd.cut(state['Population'],10)\n",
    "binnedPopulation.value_counts()"
   ]
  },
  {
   "cell_type": "code",
   "execution_count": 6,
   "metadata": {},
   "outputs": [
    {
     "data": {
      "text/html": [
       "<div>\n",
       "<style scoped>\n",
       "    .dataframe tbody tr th:only-of-type {\n",
       "        vertical-align: middle;\n",
       "    }\n",
       "\n",
       "    .dataframe tbody tr th {\n",
       "        vertical-align: top;\n",
       "    }\n",
       "\n",
       "    .dataframe thead th {\n",
       "        text-align: right;\n",
       "    }\n",
       "</style>\n",
       "<table border=\"1\" class=\"dataframe\">\n",
       "  <thead>\n",
       "    <tr style=\"text-align: right;\">\n",
       "      <th></th>\n",
       "      <th>BinRange</th>\n",
       "      <th>Count</th>\n",
       "      <th>States</th>\n",
       "    </tr>\n",
       "  </thead>\n",
       "  <tbody>\n",
       "    <tr>\n",
       "      <th>0</th>\n",
       "      <td>(526935.67, 4232659.0]</td>\n",
       "      <td>24</td>\n",
       "      <td>WY,VT,ND,AK,SD,DE,MT,RI,NH,ME,HI,ID,NE,WV,NM,N...</td>\n",
       "    </tr>\n",
       "    <tr>\n",
       "      <th>1</th>\n",
       "      <td>(4232659.0, 7901692.0]</td>\n",
       "      <td>14</td>\n",
       "      <td>KY,LA,SC,AL,CO,MN,WI,MD,MO,TN,AZ,IN,MA,WA</td>\n",
       "    </tr>\n",
       "    <tr>\n",
       "      <th>2</th>\n",
       "      <td>(7901692.0, 11570725.0]</td>\n",
       "      <td>6</td>\n",
       "      <td>VA,NJ,NC,GA,MI,OH</td>\n",
       "    </tr>\n",
       "    <tr>\n",
       "      <th>3</th>\n",
       "      <td>(11570725.0, 15239758.0]</td>\n",
       "      <td>2</td>\n",
       "      <td>PA,IL</td>\n",
       "    </tr>\n",
       "    <tr>\n",
       "      <th>4</th>\n",
       "      <td>(15239758.0, 18908791.0]</td>\n",
       "      <td>1</td>\n",
       "      <td>FL</td>\n",
       "    </tr>\n",
       "    <tr>\n",
       "      <th>5</th>\n",
       "      <td>(18908791.0, 22577824.0]</td>\n",
       "      <td>1</td>\n",
       "      <td>NY</td>\n",
       "    </tr>\n",
       "    <tr>\n",
       "      <th>6</th>\n",
       "      <td>(22577824.0, 26246857.0]</td>\n",
       "      <td>1</td>\n",
       "      <td>TX</td>\n",
       "    </tr>\n",
       "    <tr>\n",
       "      <th>7</th>\n",
       "      <td>(26246857.0, 29915890.0]</td>\n",
       "      <td>0</td>\n",
       "      <td></td>\n",
       "    </tr>\n",
       "    <tr>\n",
       "      <th>8</th>\n",
       "      <td>(29915890.0, 33584923.0]</td>\n",
       "      <td>0</td>\n",
       "      <td></td>\n",
       "    </tr>\n",
       "    <tr>\n",
       "      <th>9</th>\n",
       "      <td>(33584923.0, 37253956.0]</td>\n",
       "      <td>1</td>\n",
       "      <td>CA</td>\n",
       "    </tr>\n",
       "  </tbody>\n",
       "</table>\n",
       "</div>"
      ],
      "text/plain": [
       "                   BinRange  Count  \\\n",
       "0    (526935.67, 4232659.0]     24   \n",
       "1    (4232659.0, 7901692.0]     14   \n",
       "2   (7901692.0, 11570725.0]      6   \n",
       "3  (11570725.0, 15239758.0]      2   \n",
       "4  (15239758.0, 18908791.0]      1   \n",
       "5  (18908791.0, 22577824.0]      1   \n",
       "6  (22577824.0, 26246857.0]      1   \n",
       "7  (26246857.0, 29915890.0]      0   \n",
       "8  (29915890.0, 33584923.0]      0   \n",
       "9  (33584923.0, 37253956.0]      1   \n",
       "\n",
       "                                              States  \n",
       "0  WY,VT,ND,AK,SD,DE,MT,RI,NH,ME,HI,ID,NE,WV,NM,N...  \n",
       "1          KY,LA,SC,AL,CO,MN,WI,MD,MO,TN,AZ,IN,MA,WA  \n",
       "2                                  VA,NJ,NC,GA,MI,OH  \n",
       "3                                              PA,IL  \n",
       "4                                                 FL  \n",
       "5                                                 NY  \n",
       "6                                                 TX  \n",
       "7                                                     \n",
       "8                                                     \n",
       "9                                                 CA  "
      ]
     },
     "execution_count": 6,
     "metadata": {},
     "output_type": "execute_result"
    }
   ],
   "source": [
    "binnedPopulation.name = 'binnedPopulation'\n",
    "df = pd.concat([state, binnedPopulation], axis=1)\n",
    "df = df.sort_values(by='Population')\n",
    "\n",
    "groups = []\n",
    "for group, subset in df.groupby(by='binnedPopulation'):\n",
    "    groups.append({\n",
    "        'BinRange': group,\n",
    "        'Count': len(subset),\n",
    "        'States': ','.join(subset.Abbreviation)\n",
    "    })\n",
    "df1=pd.DataFrame(groups)\n",
    "df1"
   ]
  },
  {
   "cell_type": "markdown",
   "metadata": {},
   "source": [
    "## NOTE\n",
    "- Both frequency tables and percentiles summarize the data by creating bins. \n",
    "- In general, quartiles and deciles will have the same count in each bin (equal-count bins), but the bin sizes will be different. \n",
    "- The frequency table, by contrast, will have different counts in the bins (equal-size bins), and the bin sizes will be the same."
   ]
  },
  {
   "cell_type": "markdown",
   "metadata": {},
   "source": [
    "# Histogram\n",
    "- A histogram is a way to visualize a frequency table, with bins on the x-axis and the data count on the y-axis."
   ]
  },
  {
   "cell_type": "code",
   "execution_count": 7,
   "metadata": {},
   "outputs": [
    {
     "data": {
      "text/plain": [
       "Text(0.5, 0, 'Population (millions)')"
      ]
     },
     "execution_count": 7,
     "metadata": {},
     "output_type": "execute_result"
    },
    {
     "data": {
      "image/png": "[encoded data removed]",
      "text/plain": [
       "<Figure size 400x400 with 1 Axes>"
      ]
     },
     "metadata": {},
     "output_type": "display_data"
    }
   ],
   "source": [
    "ax = (state['Population'] / 1_000_000).plot.hist(figsize=(4, 4))\n",
    "ax.set_xlabel('Population (millions)')"
   ]
  },
  {
   "cell_type": "markdown",
   "metadata": {},
   "source": [
    "### In general, histograms are plotted such that:\n",
    "\n",
    "- Empty bins are included in the graph.\n",
    "\n",
    "- Bins are of equal width.\n",
    "\n",
    "- The number of bins (or, equivalently, bin size) is up to the user.\n",
    "\n",
    "- Bars are contiguous—no empty space shows between bars, unless there is an empty bin."
   ]
  },
  {
   "cell_type": "markdown",
   "metadata": {},
   "source": [
    "## STATISTICAL MOMENTS\n",
    "- In statistical theory, location and variability are referred to as the first and second moments of a distribution. \n",
    "- The third and fourth moments are called skewness and kurtosis. \n",
    "- Skewness refers to whether the data is skewed to larger or smaller values.\n",
    "- kurtosis indicates the propensity of the data to have extreme values. \n",
    "- Generally, metrics are not used to measure skewness and kurtosis; \n",
    "- instead, these are discovered through visual displays such as Figures like Boxplot and Histogram."
   ]
  },
  {
   "cell_type": "code",
   "execution_count": 8,
   "metadata": {},
   "outputs": [
    {
     "data": {
      "text/plain": [
       "<matplotlib.legend.Legend at 0x20d8141a970>"
      ]
     },
     "execution_count": 8,
     "metadata": {},
     "output_type": "execute_result"
    },
    {
     "data": {
      "image/png": "[encoded data removed]",
      "text/plain": [
       "<Figure size 640x480 with 1 Axes>"
      ]
     },
     "metadata": {},
     "output_type": "display_data"
    }
   ],
   "source": [
    "ax = state['Murder.Rate'].plot.hist(density=True, xlim=[0,12], bins=range(1,12))\n",
    "sns.kdeplot(state['Murder.Rate'], ax=ax)\n",
    "plt.xlabel('Murder Rate')\n",
    "plt.ylabel('Density')\n",
    "plt.title('Histogram with KDE')\n",
    "plt.legend(labels=['Histogram', 'KDE'])"
   ]
  },
  {
   "cell_type": "markdown",
   "metadata": {},
   "source": [
    "- a density plot corresponds to plotting the histogram as a proportion rather than counts.\n",
    "- Note that the total area under the density curve = 1\n"
   ]
  },
  {
   "cell_type": "markdown",
   "metadata": {},
   "source": [
    "## Key take aways from this module.\n",
    "- A frequency histogram plots frequency counts on the y-axis and variable values on the x-axis; it gives a sense of the distribution of the data at a glance.\n",
    "\n",
    "- A frequency table is a tabular version of the frequency counts found in a histogram.\n",
    "\n",
    "- A boxplot—with the top and bottom of the box at the 75th and 25th percentiles, respectively—also gives a quick sense of the distribution of the data; it is often used in side-by-side displays to compare distributions.\n",
    "\n",
    "- A density plot is a smoothed version of a histogram; it requires a function to estimate a plot based on the data (multiple estimates are possible, of course)."
   ]
  },
  {
   "cell_type": "code",
   "execution_count": null,
   "metadata": {},
   "outputs": [],
   "source": []
  }
 ],
 "metadata": {
  "kernelspec": {
   "display_name": "Python 3",
   "language": "python",
   "name": "python3"
  },
  "language_info": {
   "codemirror_mode": {
    "name": "ipython",
    "version": 3
   },
   "file_extension": ".py",
   "mimetype": "text/x-python",
   "name": "python",
   "nbconvert_exporter": "python",
   "pygments_lexer": "ipython3",
   "version": "3.8.17"
  },
  "orig_nbformat": 4
 },
 "nbformat": 4,
 "nbformat_minor": 2
}
