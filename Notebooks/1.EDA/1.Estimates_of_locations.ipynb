{
 "cells": [
  {
   "cell_type": "markdown",
   "metadata": {},
   "source": [
    "# Estimates of Location"
   ]
  },
  {
   "cell_type": "markdown",
   "metadata": {},
   "source": [
    "Variables with measured or count data might have thousands of distinct values. A basic step in exploring your data is getting a “typical value” for each feature (variable): an estimate of where most of the data is located (i.e., its central tendency)."
   ]
  },
  {
   "cell_type": "markdown",
   "metadata": {},
   "source": [
    "## KEY TERMS FOR ESTIMATES OF LOCATION\n",
    "### Mean\n",
    "- The sum of all values divided by the number of values.\n",
    "    - Synonym\n",
    "        -  average\n",
    "\n",
    "### Weighted mean\n",
    "- The sum of all values times a weight divided by the sum of the weights.\n",
    "    - Synonym\n",
    "        - weighted average\n",
    "\n",
    "### Median\n",
    "- The value such that one-half of the data lies above and below.\n",
    "    - Synonym\n",
    "        - 50th percentile\n",
    "\n",
    "### Percentile\n",
    "- The value such that P percent of the data lies below.\n",
    "    - Synonym\n",
    "        - quantile\n",
    "\n",
    "### Weighted median\n",
    "- The value such that one-half of the sum of the weights lies above and below the sorted data.\n",
    "\n",
    "### Trimmed mean\n",
    "- The average of all values after dropping a fixed number of extreme values.\n",
    "    - Synonym\n",
    "        - truncated mean\n",
    "\n",
    "### Robust\n",
    "- Not sensitive to extreme values.\n",
    "    - Synonym\n",
    "        - resistant\n",
    "\n",
    "### Outlier\n",
    "- A data value that is very different from most of the data.\n",
    "    - Synonym\n",
    "        - extreme value"
   ]
  },
  {
   "cell_type": "markdown",
   "metadata": {},
   "source": [
    "## Example: Location Estimates of Population and Murder Rates"
   ]
  },
  {
   "cell_type": "code",
   "execution_count": 2,
   "metadata": {},
   "outputs": [],
   "source": [
    "%matplotlib inline\n",
    "\n",
    "from pathlib import Path\n",
    "\n",
    "import pandas as pd\n",
    "import numpy as np\n",
    "from scipy.stats import trim_mean\n",
    "from statsmodels import robust\n",
    "import wquantiles\n",
    "\n",
    "import seaborn as sns\n",
    "import matplotlib.pylab as plt"
   ]
  },
  {
   "cell_type": "code",
   "execution_count": null,
   "metadata": {},
   "outputs": [],
   "source": []
  }
 ],
 "metadata": {
  "kernelspec": {
   "display_name": "Python 3",
   "language": "python",
   "name": "python3"
  },
  "language_info": {
   "codemirror_mode": {
    "name": "ipython",
    "version": 3
   },
   "file_extension": ".py",
   "mimetype": "text/x-python",
   "name": "python",
   "nbconvert_exporter": "python",
   "pygments_lexer": "ipython3",
   "version": "3.8.17"
  }
 },
 "nbformat": 4,
 "nbformat_minor": 1
}
