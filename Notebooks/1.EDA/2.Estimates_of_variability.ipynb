{
 "cells": [
  {
   "cell_type": "markdown",
   "metadata": {},
   "source": [
    "# Estimates of Variability"
   ]
  },
  {
   "cell_type": "markdown",
   "metadata": {},
   "source": [
    "Location is just one dimension in summarizing a feature. A second dimension, **variability**, also referred to as **dispersion**, measures whether the data values are tightly clustered or spread out. **At the heart of statistics lies variability**: measuring it, reducing it, distinguishing random from real variability, identifying the various sources of real variability, and making decisions in the presence of it.\n"
   ]
  },
  {
   "cell_type": "markdown",
   "metadata": {},
   "source": [
    "## KEY TERMS FOR VARIABILITY METRICS\n",
    "### Deviations\n",
    "- The difference between the observed values and the estimate of location.\n",
    "- deviations tell us how dispersed the data is around the central value.\n",
    "    - formula: (Xi-mean) or (Xi-median)\n",
    "    - Synonyms\n",
    "        - errors, residuals\n",
    "\n",
    "### Variance\n",
    "- The sum of squared deviations from the mean divided by n – 1 where n is the number of data values.\n",
    "    - Synonym\n",
    "        - mean-squared-error\n",
    "\n",
    "### Standard deviation\n",
    "- The square root of the variance.\n",
    "\n",
    "### Mean absolute deviation\n",
    "- The mean of the absolute values of the deviations from the mean.\n",
    "    - Synonyms\n",
    "        - l1-norm, Manhattan norm\n",
    "\n",
    "### Median absolute deviation from the median\n",
    "- The median of the absolute values of the deviations from the median.\n",
    "\n",
    "### Range\n",
    "- The difference between the largest and the smallest value in a data set.\n",
    "\n",
    "### Order statistics\n",
    "- Metrics based on the data values sorted from smallest to biggest.\n",
    "    - Synonym\n",
    "        - ranks\n",
    "\n",
    "### Percentile\n",
    "- The value such that P percent of the values take on this value or less and (100–P) percent take on this value or more.\n",
    "    - Synonym\n",
    "        - quantile\n",
    "\n",
    "### Interquartile range\n",
    "- The difference between the 75th percentile and the 25th percentile.\n",
    "    - Synonym\n",
    "        - IQR"
   ]
  },
  {
   "cell_type": "code",
   "execution_count": 1,
   "metadata": {},
   "outputs": [],
   "source": [
    "%matplotlib inline\n",
    "\n",
    "import pandas as pd\n",
    "import numpy as np\n",
    "from scipy.stats import trim_mean\n",
    "from statsmodels import robust\n",
    "import wquantiles\n",
    "\n",
    "import seaborn as sns\n",
    "import matplotlib.pylab as plt"
   ]
  },
  {
   "cell_type": "code",
   "execution_count": 2,
   "metadata": {},
   "outputs": [
    {
     "name": "stdout",
     "output_type": "stream",
     "text": [
      "         State  Population  Murder.Rate Abbreviation\n",
      "0      Alabama     4779736          5.7           AL\n",
      "1       Alaska      710231          5.6           AK\n",
      "2      Arizona     6392017          4.7           AZ\n",
      "3     Arkansas     2915918          5.6           AR\n",
      "4   California    37253956          4.4           CA\n",
      "5     Colorado     5029196          2.8           CO\n",
      "6  Connecticut     3574097          2.4           CT\n",
      "7     Delaware      897934          5.8           DE\n"
     ]
    }
   ],
   "source": [
    "state = pd.read_csv(r'G:\\data_science\\data\\state.csv')\n",
    "print(state.head(8))"
   ]
  },
  {
   "cell_type": "code",
   "execution_count": 6,
   "metadata": {},
   "outputs": [
    {
     "data": {
      "text/plain": [
       "6848235.347401142"
      ]
     },
     "execution_count": 6,
     "metadata": {},
     "output_type": "execute_result"
    }
   ],
   "source": [
    "#standard_deviation\n",
    "state['Population'].std()"
   ]
  },
  {
   "cell_type": "code",
   "execution_count": 7,
   "metadata": {},
   "outputs": [
    {
     "data": {
      "text/plain": [
       "4847308.0"
      ]
     },
     "execution_count": 7,
     "metadata": {},
     "output_type": "execute_result"
    }
   ],
   "source": [
    "#IQR\n",
    "state['Population'].quantile(0.75)-state['Population'].quantile(0.25)"
   ]
  },
  {
   "cell_type": "code",
   "execution_count": 9,
   "metadata": {},
   "outputs": [
    {
     "data": {
      "text/plain": [
       "3849876.1459979336"
      ]
     },
     "execution_count": 9,
     "metadata": {},
     "output_type": "execute_result"
    }
   ],
   "source": [
    "#mean_absolute_deviation\n",
    "robust.scale.mad(state['Population'])\n"
   ]
  },
  {
   "cell_type": "markdown",
   "metadata": {},
   "source": [
    "# Note\n",
    "- Variance and standard deviation are the most widespread and routinely reported statistics of variability.\n",
    "\n",
    "- Both are sensitive to outliers.\n",
    "\n",
    "- More robust metrics include mean absolute deviation, median absolute deviation from the median, and percentiles (quantiles)."
   ]
  },
  {
   "cell_type": "code",
   "execution_count": null,
   "metadata": {},
   "outputs": [],
   "source": []
  }
 ],
 "metadata": {
  "kernelspec": {
   "display_name": "Python 3",
   "language": "python",
   "name": "python3"
  },
  "language_info": {
   "codemirror_mode": {
    "name": "ipython",
    "version": 3
   },
   "file_extension": ".py",
   "mimetype": "text/x-python",
   "name": "python",
   "nbconvert_exporter": "python",
   "pygments_lexer": "ipython3",
   "version": "3.8.17"
  },
  "orig_nbformat": 4
 },
 "nbformat": 4,
 "nbformat_minor": 2
}
